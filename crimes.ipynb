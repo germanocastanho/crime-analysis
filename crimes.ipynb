{
 "cells": [
  {
   "cell_type": "markdown",
   "id": "bb367482",
   "metadata": {},
   "source": [
    "# **Crimes RS**\n"
   ]
  },
  {
   "cell_type": "code",
   "execution_count": 1,
   "id": "e41c8e1f",
   "metadata": {},
   "outputs": [],
   "source": [
    "import matplotlib.pyplot as plt\n",
    "import pandas as pd\n",
    "import seaborn as sns"
   ]
  },
  {
   "cell_type": "code",
   "execution_count": 2,
   "id": "e507e092",
   "metadata": {},
   "outputs": [],
   "source": [
    "df = pd.read_csv(\"data/data_2024.csv\", index_col=0)"
   ]
  },
  {
   "cell_type": "markdown",
   "id": "601b3b06",
   "metadata": {},
   "source": [
    "### **Resumo do DataFrame**\n"
   ]
  },
  {
   "cell_type": "code",
   "execution_count": 5,
   "id": "5071c2d2",
   "metadata": {},
   "outputs": [
    {
     "data": {
      "application/vnd.microsoft.datawrangler.viewer.v0+json": {
       "columns": [
        {
         "name": " Data",
         "rawType": "object",
         "type": "string"
        },
        {
         "name": "Hora",
         "rawType": "object",
         "type": "string"
        },
        {
         "name": "Gênero",
         "rawType": "object",
         "type": "string"
        },
        {
         "name": "Espécie",
         "rawType": "object",
         "type": "string"
        },
        {
         "name": "Consumação",
         "rawType": "object",
         "type": "string"
        },
        {
         "name": "Município",
         "rawType": "object",
         "type": "string"
        },
        {
         "name": "Local",
         "rawType": "object",
         "type": "string"
        },
        {
         "name": "Bairro",
         "rawType": "object",
         "type": "unknown"
        },
        {
         "name": "Vítimas",
         "rawType": "float64",
         "type": "float"
        },
        {
         "name": "Idade",
         "rawType": "float64",
         "type": "float"
        },
        {
         "name": "Sexo",
         "rawType": "object",
         "type": "unknown"
        },
        {
         "name": "Cor",
         "rawType": "object",
         "type": "unknown"
        }
       ],
       "ref": "a87454fd-fcb3-4d03-9aef-ec92b127ee50",
       "rows": [
        [
         "01/01/2024",
         "00:01:00",
         "CRIMES",
         "FURTO ABIGEATO",
         "Consumado",
         "ROSARIO DO SUL",
         "OUTROS",
         "Vila Nova",
         "0.0",
         null,
         null,
         null
        ],
        [
         "01/01/2024",
         "00:01:00",
         "CRIMES",
         "ESTELIONATO",
         "Consumado",
         "BAGE",
         "OUTROS",
         "Centro",
         "1.0",
         "22.0",
         "Masculino",
         "Branca"
        ],
        [
         "01/01/2024",
         "00:01:00",
         "CRIMES",
         "VIOLENCIA PSICOLOGICA CONTRA MULHER ART 147B",
         "Consumado",
         "PORTO ALEGRE",
         "RESIDENCIA",
         "São José",
         "1.0",
         "21.0",
         "Feminino",
         "Branca"
        ],
        [
         "01/01/2024",
         "00:01:00",
         "CRIMES",
         "ESTUPRO DE VULNERAVEL",
         "Consumado",
         "SANTA CRUZ DO SUL",
         "RESIDENCIA",
         "Cristal",
         "1.0",
         "8.0",
         "Feminino",
         "Parda"
        ],
        [
         "01/01/2024",
         "00:01:00",
         "CRIMES",
         "OUTROS CRIMES CONTRA A CRIANCA/ADOLESCENTE",
         "Consumado",
         "ARROIO DO SAL",
         "RESIDENCIA",
         null,
         "1.0",
         "2.0",
         "Masculino",
         "Branca"
        ],
        [
         "01/01/2024",
         "00:01:00",
         "CRIMES",
         "FURTO DE VEICULO",
         "Consumado",
         "ESPUMOSO",
         "RESIDENCIA",
         "Martini",
         "1.0",
         "45.0",
         "Masculino",
         "Branca"
        ],
        [
         "01/01/2024",
         "00:01:00",
         "CRIMES",
         "FURTO QUALIFICADO",
         "Consumado",
         "RIO GRANDE",
         "OUTROS",
         "Santa Rita de Cássia",
         "1.0",
         "41.0",
         "Masculino",
         "Sem informação"
        ],
        [
         "01/01/2024",
         "00:01:00",
         "CRIMES",
         "FURTO/ARROMBAMENTO DE RESIDENCIA",
         "Consumado",
         "SAO LEOPOLDO",
         "OUTROS",
         "Fião",
         "1.0",
         "75.0",
         "Masculino",
         "Sem informação"
        ],
        [
         "01/01/2024",
         "00:01:00",
         "CRIMES",
         "ESTUPRO DE VULNERAVEL",
         "Consumado",
         "IBIRUBA",
         "RESIDENCIA",
         null,
         "1.0",
         "16.0",
         "Feminino",
         "Parda"
        ],
        [
         "01/01/2024",
         "00:01:00",
         "CRIMES",
         "OUTROS CRIMES CONTRA A CRIANCA/ADOLESCENTE",
         "Consumado",
         "CAMAQUA",
         "RESIDENCIA",
         "Floresta",
         "1.0",
         "5.0",
         "Feminino",
         "Branca"
        ]
       ],
       "shape": {
        "columns": 11,
        "rows": 10
       }
      },
      "text/html": [
       "<div>\n",
       "<style scoped>\n",
       "    .dataframe tbody tr th:only-of-type {\n",
       "        vertical-align: middle;\n",
       "    }\n",
       "\n",
       "    .dataframe tbody tr th {\n",
       "        vertical-align: top;\n",
       "    }\n",
       "\n",
       "    .dataframe thead th {\n",
       "        text-align: right;\n",
       "    }\n",
       "</style>\n",
       "<table border=\"1\" class=\"dataframe\">\n",
       "  <thead>\n",
       "    <tr style=\"text-align: right;\">\n",
       "      <th></th>\n",
       "      <th>Hora</th>\n",
       "      <th>Gênero</th>\n",
       "      <th>Espécie</th>\n",
       "      <th>Consumação</th>\n",
       "      <th>Município</th>\n",
       "      <th>Local</th>\n",
       "      <th>Bairro</th>\n",
       "      <th>Vítimas</th>\n",
       "      <th>Idade</th>\n",
       "      <th>Sexo</th>\n",
       "      <th>Cor</th>\n",
       "    </tr>\n",
       "    <tr>\n",
       "      <th>Data</th>\n",
       "      <th></th>\n",
       "      <th></th>\n",
       "      <th></th>\n",
       "      <th></th>\n",
       "      <th></th>\n",
       "      <th></th>\n",
       "      <th></th>\n",
       "      <th></th>\n",
       "      <th></th>\n",
       "      <th></th>\n",
       "      <th></th>\n",
       "    </tr>\n",
       "  </thead>\n",
       "  <tbody>\n",
       "    <tr>\n",
       "      <th>01/01/2024</th>\n",
       "      <td>00:01:00</td>\n",
       "      <td>CRIMES</td>\n",
       "      <td>FURTO ABIGEATO</td>\n",
       "      <td>Consumado</td>\n",
       "      <td>ROSARIO DO SUL</td>\n",
       "      <td>OUTROS</td>\n",
       "      <td>Vila Nova</td>\n",
       "      <td>0.0</td>\n",
       "      <td>NaN</td>\n",
       "      <td>NaN</td>\n",
       "      <td>NaN</td>\n",
       "    </tr>\n",
       "    <tr>\n",
       "      <th>01/01/2024</th>\n",
       "      <td>00:01:00</td>\n",
       "      <td>CRIMES</td>\n",
       "      <td>ESTELIONATO</td>\n",
       "      <td>Consumado</td>\n",
       "      <td>BAGE</td>\n",
       "      <td>OUTROS</td>\n",
       "      <td>Centro</td>\n",
       "      <td>1.0</td>\n",
       "      <td>22.0</td>\n",
       "      <td>Masculino</td>\n",
       "      <td>Branca</td>\n",
       "    </tr>\n",
       "    <tr>\n",
       "      <th>01/01/2024</th>\n",
       "      <td>00:01:00</td>\n",
       "      <td>CRIMES</td>\n",
       "      <td>VIOLENCIA PSICOLOGICA CONTRA MULHER ART 147B</td>\n",
       "      <td>Consumado</td>\n",
       "      <td>PORTO ALEGRE</td>\n",
       "      <td>RESIDENCIA</td>\n",
       "      <td>São José</td>\n",
       "      <td>1.0</td>\n",
       "      <td>21.0</td>\n",
       "      <td>Feminino</td>\n",
       "      <td>Branca</td>\n",
       "    </tr>\n",
       "    <tr>\n",
       "      <th>01/01/2024</th>\n",
       "      <td>00:01:00</td>\n",
       "      <td>CRIMES</td>\n",
       "      <td>ESTUPRO DE VULNERAVEL</td>\n",
       "      <td>Consumado</td>\n",
       "      <td>SANTA CRUZ DO SUL</td>\n",
       "      <td>RESIDENCIA</td>\n",
       "      <td>Cristal</td>\n",
       "      <td>1.0</td>\n",
       "      <td>8.0</td>\n",
       "      <td>Feminino</td>\n",
       "      <td>Parda</td>\n",
       "    </tr>\n",
       "    <tr>\n",
       "      <th>01/01/2024</th>\n",
       "      <td>00:01:00</td>\n",
       "      <td>CRIMES</td>\n",
       "      <td>OUTROS CRIMES CONTRA A CRIANCA/ADOLESCENTE</td>\n",
       "      <td>Consumado</td>\n",
       "      <td>ARROIO DO SAL</td>\n",
       "      <td>RESIDENCIA</td>\n",
       "      <td>NaN</td>\n",
       "      <td>1.0</td>\n",
       "      <td>2.0</td>\n",
       "      <td>Masculino</td>\n",
       "      <td>Branca</td>\n",
       "    </tr>\n",
       "    <tr>\n",
       "      <th>01/01/2024</th>\n",
       "      <td>00:01:00</td>\n",
       "      <td>CRIMES</td>\n",
       "      <td>FURTO DE VEICULO</td>\n",
       "      <td>Consumado</td>\n",
       "      <td>ESPUMOSO</td>\n",
       "      <td>RESIDENCIA</td>\n",
       "      <td>Martini</td>\n",
       "      <td>1.0</td>\n",
       "      <td>45.0</td>\n",
       "      <td>Masculino</td>\n",
       "      <td>Branca</td>\n",
       "    </tr>\n",
       "    <tr>\n",
       "      <th>01/01/2024</th>\n",
       "      <td>00:01:00</td>\n",
       "      <td>CRIMES</td>\n",
       "      <td>FURTO QUALIFICADO</td>\n",
       "      <td>Consumado</td>\n",
       "      <td>RIO GRANDE</td>\n",
       "      <td>OUTROS</td>\n",
       "      <td>Santa Rita de Cássia</td>\n",
       "      <td>1.0</td>\n",
       "      <td>41.0</td>\n",
       "      <td>Masculino</td>\n",
       "      <td>Sem informação</td>\n",
       "    </tr>\n",
       "    <tr>\n",
       "      <th>01/01/2024</th>\n",
       "      <td>00:01:00</td>\n",
       "      <td>CRIMES</td>\n",
       "      <td>FURTO/ARROMBAMENTO DE RESIDENCIA</td>\n",
       "      <td>Consumado</td>\n",
       "      <td>SAO LEOPOLDO</td>\n",
       "      <td>OUTROS</td>\n",
       "      <td>Fião</td>\n",
       "      <td>1.0</td>\n",
       "      <td>75.0</td>\n",
       "      <td>Masculino</td>\n",
       "      <td>Sem informação</td>\n",
       "    </tr>\n",
       "    <tr>\n",
       "      <th>01/01/2024</th>\n",
       "      <td>00:01:00</td>\n",
       "      <td>CRIMES</td>\n",
       "      <td>ESTUPRO DE VULNERAVEL</td>\n",
       "      <td>Consumado</td>\n",
       "      <td>IBIRUBA</td>\n",
       "      <td>RESIDENCIA</td>\n",
       "      <td>NaN</td>\n",
       "      <td>1.0</td>\n",
       "      <td>16.0</td>\n",
       "      <td>Feminino</td>\n",
       "      <td>Parda</td>\n",
       "    </tr>\n",
       "    <tr>\n",
       "      <th>01/01/2024</th>\n",
       "      <td>00:01:00</td>\n",
       "      <td>CRIMES</td>\n",
       "      <td>OUTROS CRIMES CONTRA A CRIANCA/ADOLESCENTE</td>\n",
       "      <td>Consumado</td>\n",
       "      <td>CAMAQUA</td>\n",
       "      <td>RESIDENCIA</td>\n",
       "      <td>Floresta</td>\n",
       "      <td>1.0</td>\n",
       "      <td>5.0</td>\n",
       "      <td>Feminino</td>\n",
       "      <td>Branca</td>\n",
       "    </tr>\n",
       "  </tbody>\n",
       "</table>\n",
       "</div>"
      ],
      "text/plain": [
       "                Hora  Gênero                                       Espécie  \\\n",
       " Data                                                                        \n",
       "01/01/2024  00:01:00  CRIMES                                FURTO ABIGEATO   \n",
       "01/01/2024  00:01:00  CRIMES                                   ESTELIONATO   \n",
       "01/01/2024  00:01:00  CRIMES  VIOLENCIA PSICOLOGICA CONTRA MULHER ART 147B   \n",
       "01/01/2024  00:01:00  CRIMES                         ESTUPRO DE VULNERAVEL   \n",
       "01/01/2024  00:01:00  CRIMES    OUTROS CRIMES CONTRA A CRIANCA/ADOLESCENTE   \n",
       "01/01/2024  00:01:00  CRIMES                              FURTO DE VEICULO   \n",
       "01/01/2024  00:01:00  CRIMES                             FURTO QUALIFICADO   \n",
       "01/01/2024  00:01:00  CRIMES              FURTO/ARROMBAMENTO DE RESIDENCIA   \n",
       "01/01/2024  00:01:00  CRIMES                         ESTUPRO DE VULNERAVEL   \n",
       "01/01/2024  00:01:00  CRIMES    OUTROS CRIMES CONTRA A CRIANCA/ADOLESCENTE   \n",
       "\n",
       "           Consumação          Município       Local                Bairro  \\\n",
       " Data                                                                        \n",
       "01/01/2024  Consumado     ROSARIO DO SUL      OUTROS             Vila Nova   \n",
       "01/01/2024  Consumado               BAGE      OUTROS                Centro   \n",
       "01/01/2024  Consumado       PORTO ALEGRE  RESIDENCIA              São José   \n",
       "01/01/2024  Consumado  SANTA CRUZ DO SUL  RESIDENCIA               Cristal   \n",
       "01/01/2024  Consumado      ARROIO DO SAL  RESIDENCIA                   NaN   \n",
       "01/01/2024  Consumado           ESPUMOSO  RESIDENCIA               Martini   \n",
       "01/01/2024  Consumado         RIO GRANDE      OUTROS  Santa Rita de Cássia   \n",
       "01/01/2024  Consumado       SAO LEOPOLDO      OUTROS                  Fião   \n",
       "01/01/2024  Consumado            IBIRUBA  RESIDENCIA                   NaN   \n",
       "01/01/2024  Consumado            CAMAQUA  RESIDENCIA              Floresta   \n",
       "\n",
       "            Vítimas  Idade       Sexo             Cor  \n",
       " Data                                                  \n",
       "01/01/2024      0.0    NaN        NaN             NaN  \n",
       "01/01/2024      1.0   22.0  Masculino          Branca  \n",
       "01/01/2024      1.0   21.0   Feminino          Branca  \n",
       "01/01/2024      1.0    8.0   Feminino           Parda  \n",
       "01/01/2024      1.0    2.0  Masculino          Branca  \n",
       "01/01/2024      1.0   45.0  Masculino          Branca  \n",
       "01/01/2024      1.0   41.0  Masculino  Sem informação  \n",
       "01/01/2024      1.0   75.0  Masculino  Sem informação  \n",
       "01/01/2024      1.0   16.0   Feminino           Parda  \n",
       "01/01/2024      1.0    5.0   Feminino          Branca  "
      ]
     },
     "execution_count": 5,
     "metadata": {},
     "output_type": "execute_result"
    }
   ],
   "source": [
    "df.head(10)"
   ]
  },
  {
   "cell_type": "markdown",
   "id": "5b3babb2",
   "metadata": {},
   "source": [
    "### **Crimes em Espécie**\n"
   ]
  },
  {
   "cell_type": "code",
   "execution_count": 8,
   "id": "1ce78a9a",
   "metadata": {},
   "outputs": [
    {
     "data": {
      "text/plain": [
       "array(['FURTO ABIGEATO', 'ESTELIONATO',\n",
       "       'VIOLENCIA PSICOLOGICA CONTRA MULHER ART 147B',\n",
       "       'ESTUPRO DE VULNERAVEL',\n",
       "       'OUTROS CRIMES CONTRA A CRIANCA/ADOLESCENTE', 'FURTO DE VEICULO',\n",
       "       'FURTO QUALIFICADO', 'FURTO/ARROMBAMENTO DE RESIDENCIA',\n",
       "       'FURTO/ARROMBAMENTO ESTABELECIMENTO COMERCIAL', 'AMEACA',\n",
       "       'FURTO SIMPLES', 'INJURIA', 'APROPRIACAO INDEBITA',\n",
       "       'DESCUMPRIMENTO DE MEDIDA PROTETIVA DE URGENCIA', 'LESAO CORPORAL',\n",
       "       'OUTROS CRIMES', 'MAUS TRATOS',\n",
       "       'ORGANIZACAO CRIMINOSA ART 2 DA LEI 12850 DE 2013', 'VIAS DE FATO',\n",
       "       'ENTORPECENTES - TRAFICO',\n",
       "       'PERTURBACAO DO TRABALHO OU DO SOSSEGO ALHEIOS', 'ASSEDIO SEXUAL',\n",
       "       'DISPARO DE ARMA DE FOGO', 'FURTO DE TELEFONE CELULAR',\n",
       "       'INCENDIO DOLOSO', 'PORNOGRAFIA INFANTO-JUVENIL',\n",
       "       'ABANDONO MATERIAL', 'DESACATO',\n",
       "       'OUTROS CRIMES CONTRA MEIO AMBIENTE', 'DANO', 'FURTO/ARROMBAMENTO',\n",
       "       'PERMITIR,CONFIAR,OU ENTREG. DIRECAO A PESSOA S/HABIL.ART 310',\n",
       "       'FUGA DE LOCAL DE ACIDENTE - ART. 305', 'IMPORTUNACAO SEXUAL',\n",
       "       'FURTO SIMPLES EM RESIDENCIA', 'RESISTENCIA',\n",
       "       'ENTORPECENTES  POSSE',\n",
       "       'POSSE OU PORTE ILEGAL DE ARMA DE FOGO DE USO PROIBIDO',\n",
       "       'POSSE OU PORTE ILEGAL DE ARMA DE FOGO DE USO RESTRITO',\n",
       "       'LESAO CORPORAL CULPOSA DIRECAO VEIC AUTOMOTOR', 'OUTROS FURTOS',\n",
       "       'COMUNICACAO FALSA DE CRIME OU CONTRAVENCAO', 'FURTO DE DOCUMENTO',\n",
       "       'INJURIA DISCRIMINATORIA', 'FURTO EM VEICULO',\n",
       "       'ROUBO A PEDESTRE COM LESOES', 'ROUBO A PEDESTRE',\n",
       "       'ROUBO DE VEICULO', 'LESAO CORPORAL LEVE', 'EMBRIAGUEZ - ART. 306',\n",
       "       'OUTROS CRIMES CONTRA O IDOSO', 'PERSEGUICAO',\n",
       "       'EXPLORACAO SEXUAL INFANTO-JUVENIL', 'PRECONCEITO RACA COR',\n",
       "       'OUTRAS FRAUDES', 'ROUBO A RESIDENCIA COM LESOES',\n",
       "       'SUBTRACAO DE INCAPAZ', 'DESOBEDIENCIA',\n",
       "       'VIOLAR A SUSPENSAO OU PROIBICAO DE DIRIGIR VEICULO ART.307',\n",
       "       'ROUBO A RESIDENCIA', 'DANO QUALIFICADO',\n",
       "       'ROUBO DE TELEFONE CELULAR',\n",
       "       'DIRIGIR SEM HABILITACAO GERANDO PERIGO DE DANO ART. 309',\n",
       "       'APROPRIACAO DE COISA ACHADA', 'ABANDONO DE INCAPAZ', 'RIXA',\n",
       "       'ADULTERACAO DE SINAL IDENTIFICADOR DE VEICULO AUTOMOTOR',\n",
       "       'TRAFEGAR COM VELOCIDADE INCOMPATIVEL COM A SEGURANCA ART.311',\n",
       "       'ROUBO DE DOCUMENTO', 'CALUNIA',\n",
       "       'FURTO/ARROMBAMENTO ESTABELECIMENTO BANCARIO',\n",
       "       'FURTO DE FIOS E CABOS', 'VIOLACAO DE SEPULTURA',\n",
       "       'CRIMES DE ABUSO DE AUTORIDADE', 'ROUBO COM LESOES',\n",
       "       'VIOLACAO DE DOMICILIO', 'FURTO DE DEFENSIVO AGRICOLA',\n",
       "       'ROUBO A ESTABELECIMENTO COMERCIAL', 'SEQUESTRO E CARCERE PRIVADO',\n",
       "       'LESAO CORPORAL CULPOSA', 'LESAO CORPORAL GRAVE',\n",
       "       'HOMICIDIO CULPOSO DIRECAO VEIC AUTOMOTOR',\n",
       "       'PORTE ILEGAL DE ARMA DE FOGO DE USO PERMITIDO',\n",
       "       'OMISSAO DE CAUTELA NA GUARDA OU CONDUCAO DE ANIMAIS',\n",
       "       'PORTE ARMA BRANCA', 'CRUELDADE CONTRA ANIMAIS',\n",
       "       'MAUS TRATOS CONTRA O IDOSO',\n",
       "       'POSSE IRREGULAR DE ARMA DE FOGO DE USO PERMITIDO',\n",
       "       'OUTROS CRIMES QUE GERAM TERMOS CIRCUNSTANCIADOS',\n",
       "       'OUTROS CRIMES CONTRA A PROPRIEDADE IMATERIAL', 'FURTO DE ARMA',\n",
       "       'ESBULHO POSSESSORIO', 'APROPRIACAO INDEBITA DE BEM DE IDOSO',\n",
       "       'OUTROS CRIMES CONTRA O SENTIMENTO RELIGIOSO', 'DIFAMACAO',\n",
       "       'ESTELIONATO  FRAUDE ELETRONICA',\n",
       "       'FAVORECIMENTO DA PROSTITUICAO OU DE OUTRA FORMA DE EXPLORACAO SEXUAL DE CRIANCA OU ADOLESCENTE OU DE VULNERAVEL',\n",
       "       'COACAO NO CURSO DO PROCESSO', 'USO DE DOCUMENTO FALSO',\n",
       "       'ENTORPECENTE  ASSOCIACAO', 'ESTUPRO',\n",
       "       'INVASAO DE DISPOSITIVO INFORMATICO',\n",
       "       'FACILITACAO DE CONTRABANDO OU DESCAMINHO', 'FALSIDADE IDEOLOGICA',\n",
       "       'EXTORSAO',\n",
       "       'CRIMES DE LAVAGEM OU OCULTACAO DE BENS DIREITOS E VALORES LEI 9613 DE 3 DE MARCO DE 1998',\n",
       "       'DENUNCIACAO CALUNIOSA', 'RECEPTACAO DE VEICULO',\n",
       "       'CONSTRANGIMENTO ILEGAL DE CRIANCA E ADOLESCENTE',\n",
       "       'CONDUTAS RELAC. A PEDOFILIA NA INTERNET E OTR MEIOS DE COMUNIC.',\n",
       "       'ESTELIONATO  FRAUDE COM A UTILIZACAO DE ATIVOS VIRTUAIS VALORES MOBILIARIOS OU ATIVOS FINANCEIROS',\n",
       "       'CRIME DE POLUICAO E OUTROS CRIMES AMBIENTAIS',\n",
       "       'ABANDONO DE IDOSO', 'OUTROS ROUBOS', 'INCENDIO CULPOSO',\n",
       "       'CONSTRANGIMENTO ILEGAL',\n",
       "       'RETENCAO DO CARTAO DE PESSOA COM DEFICIENCIA', 'HOMICIDIO DOLOSO',\n",
       "       'FALSA IDENTIDADE',\n",
       "       'PICHAR OU POR OUTRO MEIO CONSPURCAR EDIFICACAO OU MONUMENTO URBANO',\n",
       "       'HOMICIDIO CULPOSO', 'ROUBO DE VEICULO COM LESOES', 'ATO OBSCENO',\n",
       "       'RECEPTACAO', 'DIRECAO PERIGOSA (RACHA) ART 308',\n",
       "       'APROPRIACAO COISA HAVIDA POR ERRO CASO FORTUITO OU FORCA DA NATUREZA',\n",
       "       'DIVULGACAO DE CENA DE ESTUPRO DE SEXO OU DE PORNOGRAFIA',\n",
       "       'HOMICIDIO DECORRENTE DE OPOSICAO A INTERVENCAO POLICIAL',\n",
       "       'FURTO/ARROMBAMENTO A ESTABELECIMENTO DE ENSINO',\n",
       "       'PRECONCEITO DEFICIENCIA',\n",
       "       'CRIME CONTRA O ORDENAMENTO URBANO E PATRIMONIO CULTURAL',\n",
       "       'ROUBO A MOTORISTA DE LOTACAO', 'ALTERACAO LIMITES DIVISORIOS',\n",
       "       'CRIMES CONTRA A FLORA', 'FAVORECIMENTO REAL',\n",
       "       'SEQUESTRO RELAMPAGO',\n",
       "       'OUTROS CRIMES CONTRA A ADMINISTRACAO PUBLICA',\n",
       "       'CRIMES CONTRA A FAUNA',\n",
       "       'FALSIFICACAO DE PAPEIS/DOCUMENTOS PUBLICOS',\n",
       "       'OUTROS CRIMES CONTRA RELACAO DE CONSUMO EOU ECONOMIA POPULAR',\n",
       "       'SATISFACAO DE LASCIVIA MEDIANTE PRESENCA DE CRIANCA OU ADOLESCENTE',\n",
       "       'ASSOCIACAO CRIMINOSA ART 288 DO CP',\n",
       "       'CRIMES DE TORTURA   LEI 9455 DE 1997',\n",
       "       'FURTO EM VEICULO - ESTEPE', 'VIOLACAO DE SIGILO FUNCIONAL',\n",
       "       'ROUBO DE ARMA', 'EXERCICIO ARBITRARIO PROPRIAS RAZOES',\n",
       "       'ROUBO A MOTORISTA DE CARRO ENTREGAS',\n",
       "       'ROUBO A MOTORISTA DE APLICATIVO', 'CORRUPCAO ATIVA',\n",
       "       'FURTO DE COISA COMUM ART 156  SUBTRAIR O CONDOMINO COHERDEIRO OU SOCIO PARA SI OU PARA OUTREM A QUEM LEGITIMAMENTE A DETEM A COISA COMUM',\n",
       "       'ROUBO A MOTORISTA PARTICULAR',\n",
       "       'INFRACAO DE MEDIDA SANITARIA PREVENTIVA', 'PECULATO',\n",
       "       'EXERCICIO ILEGAL DA PROFISSAO', 'HOMOFOBIA TRANSFOBIA',\n",
       "       'CORRUPCAO DE MENORES', 'ROUBO A TRANSPORTE COLETIVO',\n",
       "       'CRIME CONTRA A ADMINISTRACAO AMBIENTAL',\n",
       "       'OUTROS CRIMES CONTRA O PATRIMONIO',\n",
       "       'OUTROS CRIMES CONTRA A LIBERDADE INDIVIDUAL',\n",
       "       'RECEPTACAO CULPOSA', 'FEMINICIDIO ART 121 PAR 2 VI',\n",
       "       'PERIGO A VIDA/SAUDE DE OUTREM', 'PRECONCEITO RELIGIAO',\n",
       "       'FURTO DE CARGA EM CAMINHAO', 'OUTROS CRIMES CONTRA A FE PUBLICA',\n",
       "       'ROUBO A PASSAGEIRO TRANSP. COLETIVO E LOTACAO',\n",
       "       'FRAUDE NO PAGAMENTO POR MEIO DE CHEQUE',\n",
       "       'DISCRIMINACAO A PESSOA COM DEFICIENCIA',\n",
       "       'EXERCICIO ARBITRARIO OU ABUSO DE PODER',\n",
       "       'VIOLACAO DE CORRESPONDENCIA',\n",
       "       'INOVAR ARTIFICIOSAMENTE,EM CASO DE ACIDENTE TRANSITO ART.312',\n",
       "       'OUTROS CRIMES CONTRA A INCOLUMIDADE PUBLICA',\n",
       "       'FORNECER PRODUTOS CRIANCA/ADOLESCENTE QUE CAUSAM DEPENDENCIA',\n",
       "       'ROUBO DE VEICULO COM MORTE', 'RECEPTACAO QUALIFICADA',\n",
       "       'FALSIFICACAO DE DOCUMENTOS PARTICULARES', 'USURPACAO DE AGUAS',\n",
       "       'JOGOS DE AZAR',\n",
       "       'CRIMES CONTRA O SISTEMA FINANCEIRO - LEI 7492/86',\n",
       "       'ROUBO A MOTORISTA COM LESOES',\n",
       "       'INJURIA QUALIFICADA  RACA COR ETNIA RELIGIAO OU ORIGEM',\n",
       "       'ROUBO A MOTORISTA DE TAXI',\n",
       "       'DESLEIXO EM INFORMACOES AO CONSUMIDOR',\n",
       "       'VIOLACAO SEXUAL MEDIANTE FRAUDE',\n",
       "       'OUTROS CRIMES CONTRA A FAMILIA',\n",
       "       'ATENTADO CONTRA SEGURANCA SERV UTILIDADE PUBLICA',\n",
       "       'OUTROS CRIMES CONTRA A ORGANIZACAO DO TRABALHO',\n",
       "       'COMERCIO ILEGAL DE ARMA DE FOGO',\n",
       "       'SUBTRACAO OU INUTILIZACAO DE LIVRO OU DOCUMENTO',\n",
       "       'PRECONCEITO ETNIA PROCEDENCIA NACIONAL',\n",
       "       'EXTRAVIO SONEGACAO OU INUTILIZACAO DE LIVRO OU DOCUMENTO',\n",
       "       'VILIPENDIO A CADAVER', 'EXTORSAO MEDIANTE SEQUESTRO',\n",
       "       'CONDICIONAMENTO DE ATENDIMENTO MEDICO HOSPITALAR EMERGENCIAL',\n",
       "       'FALSO TESTEMUNHO OU FALSA PERICIA', 'OMISSAO SOCORRO ART 135 CP',\n",
       "       'FAVORECIMENTO PESSOAL', 'ROUBO A MOTORISTA DE CARGA DE CAMINHAO',\n",
       "       'SERVIR BEBIDA ALCOOLICA A VULNERAVEIS',\n",
       "       'LESAO CORPORAL GRAVISSIMA', 'ABORTO', 'FURTO PRIVILEGIADO',\n",
       "       'ROUBO A ESTABELECIMENTO COMERCIAL COM LESOES',\n",
       "       'ADVOCACIA ADMINISTRATIVA',\n",
       "       'MODIFICACAO OU ALTERACAO NAO AUTORIZADA DE SISTEMA DE INFORMACOES',\n",
       "       'CRIME CONTRA A ORDEM TRIBUTARIA - LEI 8137/90', 'ROUBO COM MORTE',\n",
       "       'ATIVIDADE(S) COM RISCOS A SEGURANCA',\n",
       "       'SIMULACAO QUALIDADE DE FUNCIONARIO',\n",
       "       'USURPACAO DE FUNCAO PUBLICA', 'ROUBO A PEDESTRE COM MORTE',\n",
       "       'LESAO CORPORAL DECORRENTE DE OPOSICAO A INTERVENCAO POLICIAL',\n",
       "       'OMISSAO DE SOCORRO CONTRA O IDOSO', 'RUFIANISMO',\n",
       "       'DISPOR COISA ALHEIA COMO PROPRIA', 'DISCRIMINACAO CONTRA O IDOSO',\n",
       "       'LESAO CORPORAL SEGUIDA DE MORTE', 'CONCUSSAO',\n",
       "       'RECUSA DE DADOS SOBRE A PROPRIA IDENTIFICACAO OU QUALIFICACAO',\n",
       "       'DESCUMPRIMENTO DE LEI DE AGROTOXICOS', 'CORRUPCAO PASSIVA',\n",
       "       'APOLOGIA DE CRIME OU CRIMINOSO',\n",
       "       'ABANDONO DE PESSOA COM DEFICIENCIA', 'FRAUDE NO COMERCIO',\n",
       "       'NEGAR INFORMACOES AO CONSUMIDOR', 'ROUBO A RESIDENCIA COM MORTE',\n",
       "       'AMEACA A ESTABELECIMENTO DE ENSINO', 'PREVARICACAO',\n",
       "       'ABANDONO INTELECTUAL',\n",
       "       'APROPRIACAO DE BENS DE PESSOA COM DEFICIENCIA',\n",
       "       'CONDUTO INCONVENIENTE', 'ABUSO DE INCAPAZ', 'ROUBO A MALOTE',\n",
       "       'FABRICO COMERCIO OU DENTENCAO DE ARMA BRANCA OU MUNICAO',\n",
       "       'ROUBO A ESTABELECIMENTO BANCARIO', 'VENDA CASADA',\n",
       "       'CRIME CONTRA O SENTIMENTO RELIGIOSO E RESPEITO AOS MORTOS',\n",
       "       'OMISSAO DE SOCORRO  ART 304 DO CTB',\n",
       "       'HOMICIDIO DOLOSO NA DIRECAO DE VEICULO AUTOMOTOR',\n",
       "       'ARREMESSO DE PROJETIL  ART 264 CP',\n",
       "       'INSERCAO DE DADOS FALSOS EM SISTEMA DE INFORMACOES',\n",
       "       'DESTRUICAO, SUBTRACAO OU OCULTACAO DE CADAVER',\n",
       "       'ROUBO A PEDESTRE ESCOLAR', 'PRECONCEITO DE RACA E COR',\n",
       "       'OMISSAO CAUTELA ARMA FOGO',\n",
       "       'VIOLACAO DE DIREITO AUTORAL (PLAGIO)', 'ROUBO DE ARMA COM LESOES',\n",
       "       'ABANDONO DE FUNCAO', 'APOLOGIA AO NAZISMO',\n",
       "       'INTIMIDACAO  BULLYING', 'CRIME ELEITORAL',\n",
       "       'FALSIFICAO DE MEDICAMENTO  ART 273 CP',\n",
       "       'CRIME CONTRA SEGURANCA NACIONAL  LEI 71701983  ART 15 PRATICAR SABOTAGEM CONTRA INSTALACOES MILITARES MEIOS DE COMUNICACOES MEIOS E VIAS DE TRANSPORTE ESTALEIROS PORTOS AEROPORTOS FABRICAS USINAS BARRAGEM DEPOSITOS E OUTRAS INSTALACOES CONGENERES',\n",
       "       'INTIMIDACAO  CYBERBULLYING', 'ROUBO A MOTORISTA COM MORTE',\n",
       "       'RECEPTACAO DE ANIMAL', 'TRAFICO DE INFLUENCIA', 'CURANDERISMO',\n",
       "       'PROPAGANDA ENGANOSA', 'INCITACAO AO CRIME',\n",
       "       'SUPRESSAO OU ALTERACAO DE MARCA EM ANIMAIS',\n",
       "       'TRAFICO INTERNACIONAL DE ARMA DE FOGO', 'MOTIM DE PRESOS',\n",
       "       'FRAUDE A CREDORES', 'ROUBO A ESTABELECIMENTO COMERCIAL COM MORTE',\n",
       "       'REDUCAO A CONDICAO ANALOGA A DE ESCRAVO',\n",
       "       'INDUZIMENTO INSTIGAO AUXILIO AO SUICIDIO OU A AUTOMULTILAO',\n",
       "       'ROUBO A JOALHERIAS E OTICAS',\n",
       "       'FURTO/ARROMBAMENTO A CAIXA ELETRONICO', 'CRIME MILITAR',\n",
       "       'ATIVIDADE CLANDESTINA DE TELECOMUNICACOES',\n",
       "       'CONSTITUICAO DE MILICIA PRIVADA',\n",
       "       'DESENVOLVER OU INTRODUZIR COMANDO INSTRUO OU PROGRAMA DE COMPUTADOR CAPAZ DE DESTRUIR APAGAR ELIMINAR ALTERAR GRAVAR OU TRANSMITIR DADO INSTRUO OU PROGRAMA OU PROVOCAR QUALQUER OUTRO RESULTADO DIVERSO DO ESPERADO EM SISTEMA DE TRATAMENTO AUTOMATICO DE DADOS USADOS PELO SERVIO ELEITORAL',\n",
       "       'ROUBO A ESTABELEC. DE ENSINO', 'CASA DE PROSTITUICAO',\n",
       "       'CRIMES DA LEI GERAL DO ESPORTE', 'ROUBO A POSTO BANCARIO',\n",
       "       'ROUBO A MOTORISTA DE CARRO FORTE', 'OMISSAO NO TERMO DE GARANTIA',\n",
       "       'CHARLATANISMO', 'ROUBO A CASA LOTERICA', 'APROPRIACAO DE TESOURO',\n",
       "       'OUTROS CRIMES CONTRA A FAZENDA ESTADUAL',\n",
       "       'FORNECER ARMA, MUNICAO, EXPLOSIVO A CRIANCA/ADOLESCENTE',\n",
       "       'USO ILEGITIMO DE UNIFORME OU DISTINTIVO', 'INFANTICIDIO',\n",
       "       'FRAUDE PROCESSUAL',\n",
       "       'FURTO VEICULO AUTOMOTOR TRANSPORTE OUTRO ESTADO',\n",
       "       'FURTO QUALIFICADO EM VEICULO'], dtype=object)"
      ]
     },
     "execution_count": 8,
     "metadata": {},
     "output_type": "execute_result"
    }
   ],
   "source": [
    "df[\"Espécie\"].unique()"
   ]
  },
  {
   "cell_type": "markdown",
   "id": "df8bfa9c",
   "metadata": {},
   "source": [
    "### **Crimes Mais Frequentes**\n"
   ]
  },
  {
   "cell_type": "code",
   "execution_count": 6,
   "id": "08e7fc7c",
   "metadata": {},
   "outputs": [
    {
     "data": {
      "application/vnd.microsoft.datawrangler.viewer.v0+json": {
       "columns": [
        {
         "name": "Espécie",
         "rawType": "object",
         "type": "string"
        },
        {
         "name": "count",
         "rawType": "int64",
         "type": "integer"
        }
       ],
       "ref": "841aaf0c-dd70-42d2-8ffe-b5932701947b",
       "rows": [
        [
         "AMEACA",
         "106563"
        ],
        [
         "ESTELIONATO",
         "79326"
        ],
        [
         "OUTROS CRIMES",
         "47817"
        ],
        [
         "LESAO CORPORAL",
         "44090"
        ],
        [
         "LESAO CORPORAL CULPOSA DIRECAO VEIC AUTOMOTOR",
         "31212"
        ],
        [
         "FURTO SIMPLES",
         "24563"
        ],
        [
         "VIAS DE FATO",
         "22062"
        ],
        [
         "OUTRAS FRAUDES",
         "21661"
        ],
        [
         "ENTORPECENTES - TRAFICO",
         "16646"
        ],
        [
         "INJURIA",
         "16645"
        ]
       ],
       "shape": {
        "columns": 1,
        "rows": 10
       }
      },
      "text/plain": [
       "Espécie\n",
       "AMEACA                                           106563\n",
       "ESTELIONATO                                       79326\n",
       "OUTROS CRIMES                                     47817\n",
       "LESAO CORPORAL                                    44090\n",
       "LESAO CORPORAL CULPOSA DIRECAO VEIC AUTOMOTOR     31212\n",
       "FURTO SIMPLES                                     24563\n",
       "VIAS DE FATO                                      22062\n",
       "OUTRAS FRAUDES                                    21661\n",
       "ENTORPECENTES - TRAFICO                           16646\n",
       "INJURIA                                           16645\n",
       "Name: count, dtype: int64"
      ]
     },
     "execution_count": 6,
     "metadata": {},
     "output_type": "execute_result"
    }
   ],
   "source": [
    "df[\"Espécie\"].value_counts().head(10)"
   ]
  },
  {
   "cell_type": "markdown",
   "id": "527b0a2b",
   "metadata": {},
   "source": [
    "### **Municípios com Mais Crimes**\n"
   ]
  },
  {
   "cell_type": "markdown",
   "id": "a215c0b3",
   "metadata": {},
   "source": [
    "##### DataFrame\n"
   ]
  },
  {
   "cell_type": "code",
   "execution_count": 10,
   "id": "6d43acc9",
   "metadata": {},
   "outputs": [
    {
     "data": {
      "application/vnd.microsoft.datawrangler.viewer.v0+json": {
       "columns": [
        {
         "name": "Município",
         "rawType": "object",
         "type": "string"
        },
        {
         "name": "count",
         "rawType": "int64",
         "type": "integer"
        }
       ],
       "ref": "9c345aea-7ef6-4c16-a57e-1c03306f9c02",
       "rows": [
        [
         "PORTO ALEGRE",
         "121331"
        ],
        [
         "CAXIAS DO SUL",
         "29227"
        ],
        [
         "CANOAS",
         "26837"
        ],
        [
         "SANTA MARIA",
         "23103"
        ],
        [
         "PELOTAS",
         "20628"
        ],
        [
         "GRAVATAI",
         "16865"
        ],
        [
         "NOVO HAMBURGO",
         "16070"
        ],
        [
         "PASSO FUNDO",
         "15846"
        ],
        [
         "VIAMAO",
         "15488"
        ],
        [
         "SAO LEOPOLDO",
         "14735"
        ]
       ],
       "shape": {
        "columns": 1,
        "rows": 10
       }
      },
      "text/plain": [
       "Município\n",
       "PORTO ALEGRE     121331\n",
       "CAXIAS DO SUL     29227\n",
       "CANOAS            26837\n",
       "SANTA MARIA       23103\n",
       "PELOTAS           20628\n",
       "GRAVATAI          16865\n",
       "NOVO HAMBURGO     16070\n",
       "PASSO FUNDO       15846\n",
       "VIAMAO            15488\n",
       "SAO LEOPOLDO      14735\n",
       "Name: count, dtype: int64"
      ]
     },
     "execution_count": 10,
     "metadata": {},
     "output_type": "execute_result"
    }
   ],
   "source": [
    "df[\"Município\"].value_counts().head(10)"
   ]
  },
  {
   "cell_type": "markdown",
   "id": "2795b466",
   "metadata": {},
   "source": [
    "##### Plotagem\n"
   ]
  },
  {
   "cell_type": "code",
   "execution_count": 12,
   "id": "bd6bb3ec",
   "metadata": {},
   "outputs": [
    {
     "data": {
      "image/png": "[encoded data removed]",
      "text/plain": [
       "<Figure size 1000x500 with 1 Axes>"
      ]
     },
     "metadata": {},
     "output_type": "display_data"
    }
   ],
   "source": [
    "plt.figure(figsize=(10, 5))\n",
    "sns.barplot(\n",
    "    x=df[\"Município\"].value_counts().head(10).index,\n",
    "    y=df[\"Município\"].value_counts().head(10).values,\n",
    ")\n",
    "plt.title(\"MUNICÍPIOS COM MAIOR NÚMERO DE CRIMES\")\n",
    "plt.xlabel(\"MUNICÍPIOS\")\n",
    "plt.xticks(rotation=45)\n",
    "plt.ylabel(\"QTD. CRIMES\")\n",
    "plt.show()"
   ]
  },
  {
   "cell_type": "markdown",
   "id": "1fb44c16",
   "metadata": {},
   "source": [
    "### **Distribuição por Vítimas**\n"
   ]
  },
  {
   "cell_type": "markdown",
   "id": "d0489b6a",
   "metadata": {},
   "source": [
    "##### DataFrame\n"
   ]
  },
  {
   "cell_type": "code",
   "execution_count": 7,
   "id": "843801ed",
   "metadata": {},
   "outputs": [
    {
     "data": {
      "application/vnd.microsoft.datawrangler.viewer.v0+json": {
       "columns": [
        {
         "name": "Sexo",
         "rawType": "object",
         "type": "string"
        },
        {
         "name": "Vítimas",
         "rawType": "float64",
         "type": "float"
        }
       ],
       "ref": "7482ab69-c5e5-4968-bc6f-357a55181115",
       "rows": [
        [
         "Feminino",
         "351588.0"
        ],
        [
         "Masculino",
         "311407.0"
        ]
       ],
       "shape": {
        "columns": 1,
        "rows": 2
       }
      },
      "text/plain": [
       "Sexo\n",
       "Feminino     351588.0\n",
       "Masculino    311407.0\n",
       "Name: Vítimas, dtype: float64"
      ]
     },
     "execution_count": 7,
     "metadata": {},
     "output_type": "execute_result"
    }
   ],
   "source": [
    "df.groupby(\"Sexo\")[\"Vítimas\"].sum()"
   ]
  },
  {
   "cell_type": "markdown",
   "id": "dc6f64bf",
   "metadata": {},
   "source": [
    "##### Plotagem\n"
   ]
  },
  {
   "cell_type": "code",
   "execution_count": 13,
   "id": "4ad7d981",
   "metadata": {},
   "outputs": [
    {
     "data": {
      "image/png": "[encoded data removed]",
      "text/plain": [
       "<Figure size 1000x500 with 1 Axes>"
      ]
     },
     "metadata": {},
     "output_type": "display_data"
    }
   ],
   "source": [
    "plt.figure(figsize=(10, 5))\n",
    "sns.barplot(\n",
    "    x=df.groupby(\"Sexo\")[\"Vítimas\"].sum().index,\n",
    "    y=df.groupby(\"Sexo\")[\"Vítimas\"].sum().values,\n",
    ")\n",
    "plt.title(\"VÍTIMAS POR SEXO\")\n",
    "plt.xlabel(\"SEXO\")\n",
    "plt.xticks(rotation=45)\n",
    "plt.ylabel(\"QTD. VÍTIMAS\")\n",
    "plt.show()\n"
   ]
  }
 ],
 "metadata": {
  "kernelspec": {
   "display_name": ".venv",
   "language": "python",
   "name": "python3"
  },
  "language_info": {
   "codemirror_mode": {
    "name": "ipython",
    "version": 3
   },
   "file_extension": ".py",
   "mimetype": "text/x-python",
   "name": "python",
   "nbconvert_exporter": "python",
   "pygments_lexer": "ipython3",
   "version": "3.12.10"
  }
 },
 "nbformat": 4,
 "nbformat_minor": 5
}
