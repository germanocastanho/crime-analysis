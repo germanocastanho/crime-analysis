{
 "cells": [
  {
   "cell_type": "markdown",
   "id": "bb367482",
   "metadata": {},
   "source": [
    "# **Crimes RS**\n"
   ]
  },
  {
   "cell_type": "markdown",
   "id": "ee69a8be",
   "metadata": {},
   "source": [
    "### **Bibliotecas e Datasets**\n"
   ]
  },
  {
   "cell_type": "code",
   "execution_count": 2,
   "id": "e41c8e1f",
   "metadata": {},
   "outputs": [],
   "source": [
    "import matplotlib.pyplot as plt\n",
    "import pandas as pd\n",
    "import seaborn as sns"
   ]
  },
  {
   "cell_type": "code",
   "execution_count": 3,
   "id": "e507e092",
   "metadata": {},
   "outputs": [],
   "source": [
    "df_2022 = pd.read_csv(\"data/data_2022.csv\", index_col=False)\n",
    "df_2023 = pd.read_csv(\"data/data_2023.csv\", index_col=False)\n",
    "df_2024 = pd.read_csv(\"data/data_2024.csv\", index_col=False)"
   ]
  },
  {
   "cell_type": "markdown",
   "id": "601b3b06",
   "metadata": {},
   "source": [
    "### **Resumos dos DataFrames**\n"
   ]
  },
  {
   "cell_type": "markdown",
   "id": "6473b8ad",
   "metadata": {},
   "source": [
    "##### Crimes em 2022\n"
   ]
  },
  {
   "cell_type": "code",
   "execution_count": 3,
   "id": "5071c2d2",
   "metadata": {},
   "outputs": [
    {
     "data": {
      "application/vnd.microsoft.datawrangler.viewer.v0+json": {
       "columns": [
        {
         "name": "index",
         "rawType": "int64",
         "type": "integer"
        },
        {
         "name": "Data",
         "rawType": "object",
         "type": "string"
        },
        {
         "name": "Hora",
         "rawType": "object",
         "type": "string"
        },
        {
         "name": "Gênero",
         "rawType": "object",
         "type": "string"
        },
        {
         "name": "Espécie",
         "rawType": "object",
         "type": "string"
        },
        {
         "name": "Consumação",
         "rawType": "object",
         "type": "string"
        },
        {
         "name": "Município",
         "rawType": "object",
         "type": "string"
        },
        {
         "name": "Local",
         "rawType": "object",
         "type": "string"
        },
        {
         "name": "Bairro",
         "rawType": "object",
         "type": "unknown"
        },
        {
         "name": "Vítimas",
         "rawType": "float64",
         "type": "float"
        },
        {
         "name": "Idade",
         "rawType": "float64",
         "type": "float"
        },
        {
         "name": "Sexo",
         "rawType": "object",
         "type": "unknown"
        },
        {
         "name": "Cor",
         "rawType": "object",
         "type": "unknown"
        }
       ],
       "ref": "b833275d-5355-484a-8f99-15060aa298ec",
       "rows": [
        [
         "0",
         "01/01/2022",
         "00:01:00",
         "CRIMES",
         "OUTROS CRIMES",
         "Consumado",
         "BARRA DO RIBEIRO",
         "OUTROS",
         null,
         "1.0",
         "63.0",
         "Feminino",
         "Branca"
        ],
        [
         "1",
         "01/01/2022",
         "00:01:00",
         "CRIMES",
         "OUTROS CRIMES",
         "Consumado",
         "NOVO HAMBURGO",
         "OUTROS",
         null,
         "0.0",
         null,
         null,
         null
        ],
        [
         "2",
         "01/01/2022",
         "00:01:00",
         "CRIMES",
         "INJURIA",
         "Consumado",
         "PORTO ALEGRE",
         "RESIDENCIA",
         "Santo Antônio",
         "1.0",
         "29.0",
         "Masculino",
         "Branca"
        ],
        [
         "3",
         "01/01/2022",
         "00:01:00",
         "CRIMES",
         "ESTUPRO DE VULNERAVEL",
         "Consumado",
         "PORTO ALEGRE",
         "RESIDENCIA",
         "Partenon",
         "1.0",
         "4.0",
         "Feminino",
         "Branca"
        ],
        [
         "4",
         "01/01/2022",
         "00:01:00",
         "CRIMES",
         "ESTELIONATO",
         "Consumado",
         "PROGRESSO",
         "OUTROS",
         null,
         "1.0",
         "20.0",
         "Masculino",
         "Branca"
        ],
        [
         "5",
         "01/01/2022",
         "00:01:00",
         "CRIMES",
         "ESTUPRO DE VULNERAVEL",
         "Consumado",
         "CIDREIRA",
         "RESIDENCIA",
         "CIDREIRA",
         "1.0",
         "11.0",
         "Feminino",
         "Branca"
        ],
        [
         "6",
         "01/01/2022",
         "00:01:00",
         "CRIMES",
         "AMEACA",
         "Consumado",
         "SANTA CRUZ DO SUL",
         "RESIDENCIA",
         "Centro",
         "2.0",
         "49.0",
         "Feminino",
         "Branca"
        ],
        [
         "7",
         "01/01/2022",
         "00:01:00",
         "CRIMES",
         "PERSEGUICAO",
         "Consumado",
         "PORTO ALEGRE",
         "RESIDENCIA",
         "Floresta",
         "1.0",
         "56.0",
         "Feminino",
         "Branca"
        ],
        [
         "8",
         "01/01/2022",
         "00:01:00",
         "CRIMES",
         "OUTROS FURTOS",
         "Consumado",
         "PELOTAS",
         "OUTROS",
         "Laranjal",
         "1.0",
         "63.0",
         "Masculino",
         "Sem informação"
        ],
        [
         "9",
         "01/01/2022",
         "00:01:00",
         "CRIMES",
         "ESTUPRO DE VULNERAVEL",
         "Consumado",
         "PORTO ALEGRE",
         "RESIDENCIA",
         "Jardim Carvalho",
         "1.0",
         "11.0",
         "Feminino",
         "Branca"
        ]
       ],
       "shape": {
        "columns": 12,
        "rows": 10
       }
      },
      "text/html": [
       "<div>\n",
       "<style scoped>\n",
       "    .dataframe tbody tr th:only-of-type {\n",
       "        vertical-align: middle;\n",
       "    }\n",
       "\n",
       "    .dataframe tbody tr th {\n",
       "        vertical-align: top;\n",
       "    }\n",
       "\n",
       "    .dataframe thead th {\n",
       "        text-align: right;\n",
       "    }\n",
       "</style>\n",
       "<table border=\"1\" class=\"dataframe\">\n",
       "  <thead>\n",
       "    <tr style=\"text-align: right;\">\n",
       "      <th></th>\n",
       "      <th>Data</th>\n",
       "      <th>Hora</th>\n",
       "      <th>Gênero</th>\n",
       "      <th>Espécie</th>\n",
       "      <th>Consumação</th>\n",
       "      <th>Município</th>\n",
       "      <th>Local</th>\n",
       "      <th>Bairro</th>\n",
       "      <th>Vítimas</th>\n",
       "      <th>Idade</th>\n",
       "      <th>Sexo</th>\n",
       "      <th>Cor</th>\n",
       "    </tr>\n",
       "  </thead>\n",
       "  <tbody>\n",
       "    <tr>\n",
       "      <th>0</th>\n",
       "      <td>01/01/2022</td>\n",
       "      <td>00:01:00</td>\n",
       "      <td>CRIMES</td>\n",
       "      <td>OUTROS CRIMES</td>\n",
       "      <td>Consumado</td>\n",
       "      <td>BARRA DO RIBEIRO</td>\n",
       "      <td>OUTROS</td>\n",
       "      <td>NaN</td>\n",
       "      <td>1.0</td>\n",
       "      <td>63.0</td>\n",
       "      <td>Feminino</td>\n",
       "      <td>Branca</td>\n",
       "    </tr>\n",
       "    <tr>\n",
       "      <th>1</th>\n",
       "      <td>01/01/2022</td>\n",
       "      <td>00:01:00</td>\n",
       "      <td>CRIMES</td>\n",
       "      <td>OUTROS CRIMES</td>\n",
       "      <td>Consumado</td>\n",
       "      <td>NOVO HAMBURGO</td>\n",
       "      <td>OUTROS</td>\n",
       "      <td>NaN</td>\n",
       "      <td>0.0</td>\n",
       "      <td>NaN</td>\n",
       "      <td>NaN</td>\n",
       "      <td>NaN</td>\n",
       "    </tr>\n",
       "    <tr>\n",
       "      <th>2</th>\n",
       "      <td>01/01/2022</td>\n",
       "      <td>00:01:00</td>\n",
       "      <td>CRIMES</td>\n",
       "      <td>INJURIA</td>\n",
       "      <td>Consumado</td>\n",
       "      <td>PORTO ALEGRE</td>\n",
       "      <td>RESIDENCIA</td>\n",
       "      <td>Santo Antônio</td>\n",
       "      <td>1.0</td>\n",
       "      <td>29.0</td>\n",
       "      <td>Masculino</td>\n",
       "      <td>Branca</td>\n",
       "    </tr>\n",
       "    <tr>\n",
       "      <th>3</th>\n",
       "      <td>01/01/2022</td>\n",
       "      <td>00:01:00</td>\n",
       "      <td>CRIMES</td>\n",
       "      <td>ESTUPRO DE VULNERAVEL</td>\n",
       "      <td>Consumado</td>\n",
       "      <td>PORTO ALEGRE</td>\n",
       "      <td>RESIDENCIA</td>\n",
       "      <td>Partenon</td>\n",
       "      <td>1.0</td>\n",
       "      <td>4.0</td>\n",
       "      <td>Feminino</td>\n",
       "      <td>Branca</td>\n",
       "    </tr>\n",
       "    <tr>\n",
       "      <th>4</th>\n",
       "      <td>01/01/2022</td>\n",
       "      <td>00:01:00</td>\n",
       "      <td>CRIMES</td>\n",
       "      <td>ESTELIONATO</td>\n",
       "      <td>Consumado</td>\n",
       "      <td>PROGRESSO</td>\n",
       "      <td>OUTROS</td>\n",
       "      <td>NaN</td>\n",
       "      <td>1.0</td>\n",
       "      <td>20.0</td>\n",
       "      <td>Masculino</td>\n",
       "      <td>Branca</td>\n",
       "    </tr>\n",
       "    <tr>\n",
       "      <th>5</th>\n",
       "      <td>01/01/2022</td>\n",
       "      <td>00:01:00</td>\n",
       "      <td>CRIMES</td>\n",
       "      <td>ESTUPRO DE VULNERAVEL</td>\n",
       "      <td>Consumado</td>\n",
       "      <td>CIDREIRA</td>\n",
       "      <td>RESIDENCIA</td>\n",
       "      <td>CIDREIRA</td>\n",
       "      <td>1.0</td>\n",
       "      <td>11.0</td>\n",
       "      <td>Feminino</td>\n",
       "      <td>Branca</td>\n",
       "    </tr>\n",
       "    <tr>\n",
       "      <th>6</th>\n",
       "      <td>01/01/2022</td>\n",
       "      <td>00:01:00</td>\n",
       "      <td>CRIMES</td>\n",
       "      <td>AMEACA</td>\n",
       "      <td>Consumado</td>\n",
       "      <td>SANTA CRUZ DO SUL</td>\n",
       "      <td>RESIDENCIA</td>\n",
       "      <td>Centro</td>\n",
       "      <td>2.0</td>\n",
       "      <td>49.0</td>\n",
       "      <td>Feminino</td>\n",
       "      <td>Branca</td>\n",
       "    </tr>\n",
       "    <tr>\n",
       "      <th>7</th>\n",
       "      <td>01/01/2022</td>\n",
       "      <td>00:01:00</td>\n",
       "      <td>CRIMES</td>\n",
       "      <td>PERSEGUICAO</td>\n",
       "      <td>Consumado</td>\n",
       "      <td>PORTO ALEGRE</td>\n",
       "      <td>RESIDENCIA</td>\n",
       "      <td>Floresta</td>\n",
       "      <td>1.0</td>\n",
       "      <td>56.0</td>\n",
       "      <td>Feminino</td>\n",
       "      <td>Branca</td>\n",
       "    </tr>\n",
       "    <tr>\n",
       "      <th>8</th>\n",
       "      <td>01/01/2022</td>\n",
       "      <td>00:01:00</td>\n",
       "      <td>CRIMES</td>\n",
       "      <td>OUTROS FURTOS</td>\n",
       "      <td>Consumado</td>\n",
       "      <td>PELOTAS</td>\n",
       "      <td>OUTROS</td>\n",
       "      <td>Laranjal</td>\n",
       "      <td>1.0</td>\n",
       "      <td>63.0</td>\n",
       "      <td>Masculino</td>\n",
       "      <td>Sem informação</td>\n",
       "    </tr>\n",
       "    <tr>\n",
       "      <th>9</th>\n",
       "      <td>01/01/2022</td>\n",
       "      <td>00:01:00</td>\n",
       "      <td>CRIMES</td>\n",
       "      <td>ESTUPRO DE VULNERAVEL</td>\n",
       "      <td>Consumado</td>\n",
       "      <td>PORTO ALEGRE</td>\n",
       "      <td>RESIDENCIA</td>\n",
       "      <td>Jardim Carvalho</td>\n",
       "      <td>1.0</td>\n",
       "      <td>11.0</td>\n",
       "      <td>Feminino</td>\n",
       "      <td>Branca</td>\n",
       "    </tr>\n",
       "  </tbody>\n",
       "</table>\n",
       "</div>"
      ],
      "text/plain": [
       "         Data      Hora  Gênero                Espécie Consumação  \\\n",
       "0  01/01/2022  00:01:00  CRIMES          OUTROS CRIMES  Consumado   \n",
       "1  01/01/2022  00:01:00  CRIMES          OUTROS CRIMES  Consumado   \n",
       "2  01/01/2022  00:01:00  CRIMES                INJURIA  Consumado   \n",
       "3  01/01/2022  00:01:00  CRIMES  ESTUPRO DE VULNERAVEL  Consumado   \n",
       "4  01/01/2022  00:01:00  CRIMES            ESTELIONATO  Consumado   \n",
       "5  01/01/2022  00:01:00  CRIMES  ESTUPRO DE VULNERAVEL  Consumado   \n",
       "6  01/01/2022  00:01:00  CRIMES                 AMEACA  Consumado   \n",
       "7  01/01/2022  00:01:00  CRIMES            PERSEGUICAO  Consumado   \n",
       "8  01/01/2022  00:01:00  CRIMES          OUTROS FURTOS  Consumado   \n",
       "9  01/01/2022  00:01:00  CRIMES  ESTUPRO DE VULNERAVEL  Consumado   \n",
       "\n",
       "           Município       Local           Bairro  Vítimas  Idade       Sexo  \\\n",
       "0   BARRA DO RIBEIRO      OUTROS              NaN      1.0   63.0   Feminino   \n",
       "1      NOVO HAMBURGO      OUTROS              NaN      0.0    NaN        NaN   \n",
       "2       PORTO ALEGRE  RESIDENCIA    Santo Antônio      1.0   29.0  Masculino   \n",
       "3       PORTO ALEGRE  RESIDENCIA         Partenon      1.0    4.0   Feminino   \n",
       "4          PROGRESSO      OUTROS              NaN      1.0   20.0  Masculino   \n",
       "5           CIDREIRA  RESIDENCIA         CIDREIRA      1.0   11.0   Feminino   \n",
       "6  SANTA CRUZ DO SUL  RESIDENCIA           Centro      2.0   49.0   Feminino   \n",
       "7       PORTO ALEGRE  RESIDENCIA         Floresta      1.0   56.0   Feminino   \n",
       "8            PELOTAS      OUTROS         Laranjal      1.0   63.0  Masculino   \n",
       "9       PORTO ALEGRE  RESIDENCIA  Jardim Carvalho      1.0   11.0   Feminino   \n",
       "\n",
       "              Cor  \n",
       "0          Branca  \n",
       "1             NaN  \n",
       "2          Branca  \n",
       "3          Branca  \n",
       "4          Branca  \n",
       "5          Branca  \n",
       "6          Branca  \n",
       "7          Branca  \n",
       "8  Sem informação  \n",
       "9          Branca  "
      ]
     },
     "execution_count": 3,
     "metadata": {},
     "output_type": "execute_result"
    }
   ],
   "source": [
    "df_2022.head(10)"
   ]
  },
  {
   "cell_type": "code",
   "execution_count": 6,
   "id": "a91bbd58",
   "metadata": {},
   "outputs": [
    {
     "name": "stdout",
     "output_type": "stream",
     "text": [
      "<class 'pandas.core.frame.DataFrame'>\n",
      "RangeIndex: 599648 entries, 0 to 599647\n",
      "Data columns (total 12 columns):\n",
      " #   Column      Non-Null Count   Dtype  \n",
      "---  ------      --------------   -----  \n",
      " 0   Data        599648 non-null  object \n",
      " 1   Hora        599648 non-null  object \n",
      " 2   Gênero      599648 non-null  object \n",
      " 3   Espécie     599648 non-null  object \n",
      " 4   Consumação  599647 non-null  object \n",
      " 5   Município   599647 non-null  object \n",
      " 6   Local       599647 non-null  object \n",
      " 7   Bairro      492558 non-null  object \n",
      " 8   Vítimas     599646 non-null  float64\n",
      " 9   Idade       595635 non-null  float64\n",
      " 10  Sexo        595971 non-null  object \n",
      " 11  Cor         596039 non-null  object \n",
      "dtypes: float64(2), object(10)\n",
      "memory usage: 54.9+ MB\n"
     ]
    }
   ],
   "source": [
    "df_2022.info()"
   ]
  },
  {
   "cell_type": "markdown",
   "id": "78822ff1",
   "metadata": {},
   "source": [
    "##### Crimes em 2023\n"
   ]
  },
  {
   "cell_type": "code",
   "execution_count": 4,
   "id": "d1ea588d",
   "metadata": {},
   "outputs": [
    {
     "data": {
      "application/vnd.microsoft.datawrangler.viewer.v0+json": {
       "columns": [
        {
         "name": "index",
         "rawType": "int64",
         "type": "integer"
        },
        {
         "name": "Data",
         "rawType": "object",
         "type": "string"
        },
        {
         "name": "Hora",
         "rawType": "object",
         "type": "string"
        },
        {
         "name": "Gênero",
         "rawType": "object",
         "type": "string"
        },
        {
         "name": "Espécie",
         "rawType": "object",
         "type": "string"
        },
        {
         "name": "Consumação",
         "rawType": "object",
         "type": "string"
        },
        {
         "name": "Município",
         "rawType": "object",
         "type": "string"
        },
        {
         "name": "Local",
         "rawType": "object",
         "type": "string"
        },
        {
         "name": "Bairro",
         "rawType": "object",
         "type": "unknown"
        },
        {
         "name": "Vítimas",
         "rawType": "float64",
         "type": "float"
        },
        {
         "name": "Idade",
         "rawType": "float64",
         "type": "float"
        },
        {
         "name": "Sexo",
         "rawType": "object",
         "type": "unknown"
        },
        {
         "name": "Cor",
         "rawType": "object",
         "type": "unknown"
        }
       ],
       "ref": "985412cf-8eb5-4f66-92cd-22c143e447d0",
       "rows": [
        [
         "0",
         "01/01/2023",
         "00:01:00",
         "CRIMES",
         "MAUS TRATOS",
         "Consumado",
         "CAXIAS DO SUL",
         "ETABELECIMENTO ENSINO",
         "Petrópolis",
         "1.0",
         "1.0",
         "Masculino",
         "Branca"
        ],
        [
         "1",
         "01/01/2023",
         "00:01:00",
         "CRIMES",
         "AMEACA",
         "Consumado",
         "PORTAO",
         "RESIDENCIA",
         "Portão Novo",
         "1.0",
         "41.0",
         "Feminino",
         "Branca"
        ],
        [
         "2",
         "01/01/2023",
         "00:01:00",
         "CRIMES",
         "ESTUPRO DE VULNERAVEL",
         "Consumado",
         "CRUZ ALTA",
         "RESIDENCIA",
         "Bairro do Sol",
         "1.0",
         "11.0",
         "Feminino",
         "Branca"
        ],
        [
         "3",
         "01/01/2023",
         "00:01:00",
         "CRIMES",
         "ESTUPRO DE VULNERAVEL",
         "Consumado",
         "IBIRUBA",
         "OUTROS",
         null,
         "1.0",
         "9.0",
         "Feminino",
         "Branca"
        ],
        [
         "4",
         "01/01/2023",
         "00:01:00",
         "CRIMES",
         "FURTO SIMPLES",
         "Consumado",
         "ALVORADA",
         "VIA PUBLICA",
         "Bela Vista",
         "1.0",
         "53.0",
         "Masculino",
         "Preta"
        ],
        [
         "5",
         "01/01/2023",
         "00:01:00",
         "CONTRAVENCOES",
         "PERTURBACAO DO TRABALHO OU DO SOSSEGO ALHEIOS",
         "Consumado",
         "BOM PRINCIPIO",
         "RESIDENCIA",
         "Centro",
         "1.0",
         "34.0",
         "Feminino",
         "Branca"
        ],
        [
         "6",
         "01/01/2023",
         "00:01:00",
         "CRIMES",
         "AMEACA",
         "Consumado",
         "CAXIAS DO SUL",
         "RESIDENCIA",
         "Nossa Senhora de Fátima",
         "1.0",
         "52.0",
         "Feminino",
         "Branca"
        ],
        [
         "7",
         "01/01/2023",
         "00:01:00",
         "CRIMES",
         "FURTO ABIGEATO",
         "Consumado",
         "CERRO GRANDE DO SUL",
         "OUTROS",
         null,
         "0.0",
         null,
         null,
         null
        ],
        [
         "8",
         "01/01/2023",
         "00:01:00",
         "CRIMES",
         "FURTO SIMPLES",
         "Consumado",
         "LAGOA DOS TRES CANTOS",
         "RESIDENCIA",
         "interior",
         "1.0",
         "73.0",
         "Feminino",
         "Branca"
        ],
        [
         "9",
         "01/01/2023",
         "00:01:00",
         "CRIMES",
         "ESTUPRO DE VULNERAVEL",
         "Consumado",
         "ALEGRETE",
         "RESIDENCIA",
         "Alegrete",
         "1.0",
         "11.0",
         "Feminino",
         "Branca"
        ]
       ],
       "shape": {
        "columns": 12,
        "rows": 10
       }
      },
      "text/html": [
       "<div>\n",
       "<style scoped>\n",
       "    .dataframe tbody tr th:only-of-type {\n",
       "        vertical-align: middle;\n",
       "    }\n",
       "\n",
       "    .dataframe tbody tr th {\n",
       "        vertical-align: top;\n",
       "    }\n",
       "\n",
       "    .dataframe thead th {\n",
       "        text-align: right;\n",
       "    }\n",
       "</style>\n",
       "<table border=\"1\" class=\"dataframe\">\n",
       "  <thead>\n",
       "    <tr style=\"text-align: right;\">\n",
       "      <th></th>\n",
       "      <th>Data</th>\n",
       "      <th>Hora</th>\n",
       "      <th>Gênero</th>\n",
       "      <th>Espécie</th>\n",
       "      <th>Consumação</th>\n",
       "      <th>Município</th>\n",
       "      <th>Local</th>\n",
       "      <th>Bairro</th>\n",
       "      <th>Vítimas</th>\n",
       "      <th>Idade</th>\n",
       "      <th>Sexo</th>\n",
       "      <th>Cor</th>\n",
       "    </tr>\n",
       "  </thead>\n",
       "  <tbody>\n",
       "    <tr>\n",
       "      <th>0</th>\n",
       "      <td>01/01/2023</td>\n",
       "      <td>00:01:00</td>\n",
       "      <td>CRIMES</td>\n",
       "      <td>MAUS TRATOS</td>\n",
       "      <td>Consumado</td>\n",
       "      <td>CAXIAS DO SUL</td>\n",
       "      <td>ETABELECIMENTO ENSINO</td>\n",
       "      <td>Petrópolis</td>\n",
       "      <td>1.0</td>\n",
       "      <td>1.0</td>\n",
       "      <td>Masculino</td>\n",
       "      <td>Branca</td>\n",
       "    </tr>\n",
       "    <tr>\n",
       "      <th>1</th>\n",
       "      <td>01/01/2023</td>\n",
       "      <td>00:01:00</td>\n",
       "      <td>CRIMES</td>\n",
       "      <td>AMEACA</td>\n",
       "      <td>Consumado</td>\n",
       "      <td>PORTAO</td>\n",
       "      <td>RESIDENCIA</td>\n",
       "      <td>Portão Novo</td>\n",
       "      <td>1.0</td>\n",
       "      <td>41.0</td>\n",
       "      <td>Feminino</td>\n",
       "      <td>Branca</td>\n",
       "    </tr>\n",
       "    <tr>\n",
       "      <th>2</th>\n",
       "      <td>01/01/2023</td>\n",
       "      <td>00:01:00</td>\n",
       "      <td>CRIMES</td>\n",
       "      <td>ESTUPRO DE VULNERAVEL</td>\n",
       "      <td>Consumado</td>\n",
       "      <td>CRUZ ALTA</td>\n",
       "      <td>RESIDENCIA</td>\n",
       "      <td>Bairro do Sol</td>\n",
       "      <td>1.0</td>\n",
       "      <td>11.0</td>\n",
       "      <td>Feminino</td>\n",
       "      <td>Branca</td>\n",
       "    </tr>\n",
       "    <tr>\n",
       "      <th>3</th>\n",
       "      <td>01/01/2023</td>\n",
       "      <td>00:01:00</td>\n",
       "      <td>CRIMES</td>\n",
       "      <td>ESTUPRO DE VULNERAVEL</td>\n",
       "      <td>Consumado</td>\n",
       "      <td>IBIRUBA</td>\n",
       "      <td>OUTROS</td>\n",
       "      <td>NaN</td>\n",
       "      <td>1.0</td>\n",
       "      <td>9.0</td>\n",
       "      <td>Feminino</td>\n",
       "      <td>Branca</td>\n",
       "    </tr>\n",
       "    <tr>\n",
       "      <th>4</th>\n",
       "      <td>01/01/2023</td>\n",
       "      <td>00:01:00</td>\n",
       "      <td>CRIMES</td>\n",
       "      <td>FURTO SIMPLES</td>\n",
       "      <td>Consumado</td>\n",
       "      <td>ALVORADA</td>\n",
       "      <td>VIA PUBLICA</td>\n",
       "      <td>Bela Vista</td>\n",
       "      <td>1.0</td>\n",
       "      <td>53.0</td>\n",
       "      <td>Masculino</td>\n",
       "      <td>Preta</td>\n",
       "    </tr>\n",
       "    <tr>\n",
       "      <th>5</th>\n",
       "      <td>01/01/2023</td>\n",
       "      <td>00:01:00</td>\n",
       "      <td>CONTRAVENCOES</td>\n",
       "      <td>PERTURBACAO DO TRABALHO OU DO SOSSEGO ALHEIOS</td>\n",
       "      <td>Consumado</td>\n",
       "      <td>BOM PRINCIPIO</td>\n",
       "      <td>RESIDENCIA</td>\n",
       "      <td>Centro</td>\n",
       "      <td>1.0</td>\n",
       "      <td>34.0</td>\n",
       "      <td>Feminino</td>\n",
       "      <td>Branca</td>\n",
       "    </tr>\n",
       "    <tr>\n",
       "      <th>6</th>\n",
       "      <td>01/01/2023</td>\n",
       "      <td>00:01:00</td>\n",
       "      <td>CRIMES</td>\n",
       "      <td>AMEACA</td>\n",
       "      <td>Consumado</td>\n",
       "      <td>CAXIAS DO SUL</td>\n",
       "      <td>RESIDENCIA</td>\n",
       "      <td>Nossa Senhora de Fátima</td>\n",
       "      <td>1.0</td>\n",
       "      <td>52.0</td>\n",
       "      <td>Feminino</td>\n",
       "      <td>Branca</td>\n",
       "    </tr>\n",
       "    <tr>\n",
       "      <th>7</th>\n",
       "      <td>01/01/2023</td>\n",
       "      <td>00:01:00</td>\n",
       "      <td>CRIMES</td>\n",
       "      <td>FURTO ABIGEATO</td>\n",
       "      <td>Consumado</td>\n",
       "      <td>CERRO GRANDE DO SUL</td>\n",
       "      <td>OUTROS</td>\n",
       "      <td>NaN</td>\n",
       "      <td>0.0</td>\n",
       "      <td>NaN</td>\n",
       "      <td>NaN</td>\n",
       "      <td>NaN</td>\n",
       "    </tr>\n",
       "    <tr>\n",
       "      <th>8</th>\n",
       "      <td>01/01/2023</td>\n",
       "      <td>00:01:00</td>\n",
       "      <td>CRIMES</td>\n",
       "      <td>FURTO SIMPLES</td>\n",
       "      <td>Consumado</td>\n",
       "      <td>LAGOA DOS TRES CANTOS</td>\n",
       "      <td>RESIDENCIA</td>\n",
       "      <td>interior</td>\n",
       "      <td>1.0</td>\n",
       "      <td>73.0</td>\n",
       "      <td>Feminino</td>\n",
       "      <td>Branca</td>\n",
       "    </tr>\n",
       "    <tr>\n",
       "      <th>9</th>\n",
       "      <td>01/01/2023</td>\n",
       "      <td>00:01:00</td>\n",
       "      <td>CRIMES</td>\n",
       "      <td>ESTUPRO DE VULNERAVEL</td>\n",
       "      <td>Consumado</td>\n",
       "      <td>ALEGRETE</td>\n",
       "      <td>RESIDENCIA</td>\n",
       "      <td>Alegrete</td>\n",
       "      <td>1.0</td>\n",
       "      <td>11.0</td>\n",
       "      <td>Feminino</td>\n",
       "      <td>Branca</td>\n",
       "    </tr>\n",
       "  </tbody>\n",
       "</table>\n",
       "</div>"
      ],
      "text/plain": [
       "         Data      Hora         Gênero  \\\n",
       "0  01/01/2023  00:01:00         CRIMES   \n",
       "1  01/01/2023  00:01:00         CRIMES   \n",
       "2  01/01/2023  00:01:00         CRIMES   \n",
       "3  01/01/2023  00:01:00         CRIMES   \n",
       "4  01/01/2023  00:01:00         CRIMES   \n",
       "5  01/01/2023  00:01:00  CONTRAVENCOES   \n",
       "6  01/01/2023  00:01:00         CRIMES   \n",
       "7  01/01/2023  00:01:00         CRIMES   \n",
       "8  01/01/2023  00:01:00         CRIMES   \n",
       "9  01/01/2023  00:01:00         CRIMES   \n",
       "\n",
       "                                         Espécie Consumação  \\\n",
       "0                                    MAUS TRATOS  Consumado   \n",
       "1                                         AMEACA  Consumado   \n",
       "2                          ESTUPRO DE VULNERAVEL  Consumado   \n",
       "3                          ESTUPRO DE VULNERAVEL  Consumado   \n",
       "4                                  FURTO SIMPLES  Consumado   \n",
       "5  PERTURBACAO DO TRABALHO OU DO SOSSEGO ALHEIOS  Consumado   \n",
       "6                                         AMEACA  Consumado   \n",
       "7                                 FURTO ABIGEATO  Consumado   \n",
       "8                                  FURTO SIMPLES  Consumado   \n",
       "9                          ESTUPRO DE VULNERAVEL  Consumado   \n",
       "\n",
       "               Município                  Local                   Bairro  \\\n",
       "0          CAXIAS DO SUL  ETABELECIMENTO ENSINO               Petrópolis   \n",
       "1                 PORTAO             RESIDENCIA              Portão Novo   \n",
       "2              CRUZ ALTA             RESIDENCIA            Bairro do Sol   \n",
       "3                IBIRUBA                 OUTROS                      NaN   \n",
       "4               ALVORADA            VIA PUBLICA               Bela Vista   \n",
       "5          BOM PRINCIPIO             RESIDENCIA                   Centro   \n",
       "6          CAXIAS DO SUL             RESIDENCIA  Nossa Senhora de Fátima   \n",
       "7    CERRO GRANDE DO SUL                 OUTROS                      NaN   \n",
       "8  LAGOA DOS TRES CANTOS             RESIDENCIA                 interior   \n",
       "9               ALEGRETE             RESIDENCIA                 Alegrete   \n",
       "\n",
       "   Vítimas  Idade       Sexo     Cor  \n",
       "0      1.0    1.0  Masculino  Branca  \n",
       "1      1.0   41.0   Feminino  Branca  \n",
       "2      1.0   11.0   Feminino  Branca  \n",
       "3      1.0    9.0   Feminino  Branca  \n",
       "4      1.0   53.0  Masculino   Preta  \n",
       "5      1.0   34.0   Feminino  Branca  \n",
       "6      1.0   52.0   Feminino  Branca  \n",
       "7      0.0    NaN        NaN     NaN  \n",
       "8      1.0   73.0   Feminino  Branca  \n",
       "9      1.0   11.0   Feminino  Branca  "
      ]
     },
     "execution_count": 4,
     "metadata": {},
     "output_type": "execute_result"
    }
   ],
   "source": [
    "df_2023.head(10)\n"
   ]
  },
  {
   "cell_type": "code",
   "execution_count": 7,
   "id": "1b918514",
   "metadata": {},
   "outputs": [
    {
     "name": "stdout",
     "output_type": "stream",
     "text": [
      "<class 'pandas.core.frame.DataFrame'>\n",
      "RangeIndex: 806945 entries, 0 to 806944\n",
      "Data columns (total 12 columns):\n",
      " #   Column      Non-Null Count   Dtype  \n",
      "---  ------      --------------   -----  \n",
      " 0   Data        806945 non-null  object \n",
      " 1   Hora        806945 non-null  object \n",
      " 2   Gênero      806945 non-null  object \n",
      " 3   Espécie     806945 non-null  object \n",
      " 4   Consumação  806945 non-null  object \n",
      " 5   Município   806945 non-null  object \n",
      " 6   Local       806945 non-null  object \n",
      " 7   Bairro      637084 non-null  object \n",
      " 8   Vítimas     806940 non-null  float64\n",
      " 9   Idade       638156 non-null  float64\n",
      " 10  Sexo        637676 non-null  object \n",
      " 11  Cor         638513 non-null  object \n",
      "dtypes: float64(2), object(10)\n",
      "memory usage: 73.9+ MB\n"
     ]
    }
   ],
   "source": [
    "df_2023.info()"
   ]
  },
  {
   "cell_type": "markdown",
   "id": "e923db29",
   "metadata": {},
   "source": [
    "##### Crimes em 2024\n"
   ]
  },
  {
   "cell_type": "code",
   "execution_count": 5,
   "id": "b5e2af8a",
   "metadata": {},
   "outputs": [
    {
     "data": {
      "application/vnd.microsoft.datawrangler.viewer.v0+json": {
       "columns": [
        {
         "name": "index",
         "rawType": "int64",
         "type": "integer"
        },
        {
         "name": " Data",
         "rawType": "object",
         "type": "string"
        },
        {
         "name": "Hora",
         "rawType": "object",
         "type": "string"
        },
        {
         "name": "Gênero",
         "rawType": "object",
         "type": "string"
        },
        {
         "name": "Espécie",
         "rawType": "object",
         "type": "string"
        },
        {
         "name": "Consumação",
         "rawType": "object",
         "type": "string"
        },
        {
         "name": "Município",
         "rawType": "object",
         "type": "string"
        },
        {
         "name": "Local",
         "rawType": "object",
         "type": "string"
        },
        {
         "name": "Bairro",
         "rawType": "object",
         "type": "unknown"
        },
        {
         "name": "Vítimas",
         "rawType": "float64",
         "type": "float"
        },
        {
         "name": "Idade",
         "rawType": "float64",
         "type": "float"
        },
        {
         "name": "Sexo",
         "rawType": "object",
         "type": "unknown"
        },
        {
         "name": "Cor",
         "rawType": "object",
         "type": "unknown"
        }
       ],
       "ref": "98bb1d38-e9bf-49f4-954b-44ce0c64c1c5",
       "rows": [
        [
         "0",
         "01/01/2024",
         "00:01:00",
         "CRIMES",
         "FURTO ABIGEATO",
         "Consumado",
         "ROSARIO DO SUL",
         "OUTROS",
         "Vila Nova",
         "0.0",
         null,
         null,
         null
        ],
        [
         "1",
         "01/01/2024",
         "00:01:00",
         "CRIMES",
         "ESTELIONATO",
         "Consumado",
         "BAGE",
         "OUTROS",
         "Centro",
         "1.0",
         "22.0",
         "Masculino",
         "Branca"
        ],
        [
         "2",
         "01/01/2024",
         "00:01:00",
         "CRIMES",
         "VIOLENCIA PSICOLOGICA CONTRA MULHER ART 147B",
         "Consumado",
         "PORTO ALEGRE",
         "RESIDENCIA",
         "São José",
         "1.0",
         "21.0",
         "Feminino",
         "Branca"
        ],
        [
         "3",
         "01/01/2024",
         "00:01:00",
         "CRIMES",
         "ESTUPRO DE VULNERAVEL",
         "Consumado",
         "SANTA CRUZ DO SUL",
         "RESIDENCIA",
         "Cristal",
         "1.0",
         "8.0",
         "Feminino",
         "Parda"
        ],
        [
         "4",
         "01/01/2024",
         "00:01:00",
         "CRIMES",
         "OUTROS CRIMES CONTRA A CRIANCA/ADOLESCENTE",
         "Consumado",
         "ARROIO DO SAL",
         "RESIDENCIA",
         null,
         "1.0",
         "2.0",
         "Masculino",
         "Branca"
        ],
        [
         "5",
         "01/01/2024",
         "00:01:00",
         "CRIMES",
         "FURTO DE VEICULO",
         "Consumado",
         "ESPUMOSO",
         "RESIDENCIA",
         "Martini",
         "1.0",
         "45.0",
         "Masculino",
         "Branca"
        ],
        [
         "6",
         "01/01/2024",
         "00:01:00",
         "CRIMES",
         "FURTO QUALIFICADO",
         "Consumado",
         "RIO GRANDE",
         "OUTROS",
         "Santa Rita de Cássia",
         "1.0",
         "41.0",
         "Masculino",
         "Sem informação"
        ],
        [
         "7",
         "01/01/2024",
         "00:01:00",
         "CRIMES",
         "FURTO/ARROMBAMENTO DE RESIDENCIA",
         "Consumado",
         "SAO LEOPOLDO",
         "OUTROS",
         "Fião",
         "1.0",
         "75.0",
         "Masculino",
         "Sem informação"
        ],
        [
         "8",
         "01/01/2024",
         "00:01:00",
         "CRIMES",
         "ESTUPRO DE VULNERAVEL",
         "Consumado",
         "IBIRUBA",
         "RESIDENCIA",
         null,
         "1.0",
         "16.0",
         "Feminino",
         "Parda"
        ],
        [
         "9",
         "01/01/2024",
         "00:01:00",
         "CRIMES",
         "OUTROS CRIMES CONTRA A CRIANCA/ADOLESCENTE",
         "Consumado",
         "CAMAQUA",
         "RESIDENCIA",
         "Floresta",
         "1.0",
         "5.0",
         "Feminino",
         "Branca"
        ]
       ],
       "shape": {
        "columns": 12,
        "rows": 10
       }
      },
      "text/html": [
       "<div>\n",
       "<style scoped>\n",
       "    .dataframe tbody tr th:only-of-type {\n",
       "        vertical-align: middle;\n",
       "    }\n",
       "\n",
       "    .dataframe tbody tr th {\n",
       "        vertical-align: top;\n",
       "    }\n",
       "\n",
       "    .dataframe thead th {\n",
       "        text-align: right;\n",
       "    }\n",
       "</style>\n",
       "<table border=\"1\" class=\"dataframe\">\n",
       "  <thead>\n",
       "    <tr style=\"text-align: right;\">\n",
       "      <th></th>\n",
       "      <th>Data</th>\n",
       "      <th>Hora</th>\n",
       "      <th>Gênero</th>\n",
       "      <th>Espécie</th>\n",
       "      <th>Consumação</th>\n",
       "      <th>Município</th>\n",
       "      <th>Local</th>\n",
       "      <th>Bairro</th>\n",
       "      <th>Vítimas</th>\n",
       "      <th>Idade</th>\n",
       "      <th>Sexo</th>\n",
       "      <th>Cor</th>\n",
       "    </tr>\n",
       "  </thead>\n",
       "  <tbody>\n",
       "    <tr>\n",
       "      <th>0</th>\n",
       "      <td>01/01/2024</td>\n",
       "      <td>00:01:00</td>\n",
       "      <td>CRIMES</td>\n",
       "      <td>FURTO ABIGEATO</td>\n",
       "      <td>Consumado</td>\n",
       "      <td>ROSARIO DO SUL</td>\n",
       "      <td>OUTROS</td>\n",
       "      <td>Vila Nova</td>\n",
       "      <td>0.0</td>\n",
       "      <td>NaN</td>\n",
       "      <td>NaN</td>\n",
       "      <td>NaN</td>\n",
       "    </tr>\n",
       "    <tr>\n",
       "      <th>1</th>\n",
       "      <td>01/01/2024</td>\n",
       "      <td>00:01:00</td>\n",
       "      <td>CRIMES</td>\n",
       "      <td>ESTELIONATO</td>\n",
       "      <td>Consumado</td>\n",
       "      <td>BAGE</td>\n",
       "      <td>OUTROS</td>\n",
       "      <td>Centro</td>\n",
       "      <td>1.0</td>\n",
       "      <td>22.0</td>\n",
       "      <td>Masculino</td>\n",
       "      <td>Branca</td>\n",
       "    </tr>\n",
       "    <tr>\n",
       "      <th>2</th>\n",
       "      <td>01/01/2024</td>\n",
       "      <td>00:01:00</td>\n",
       "      <td>CRIMES</td>\n",
       "      <td>VIOLENCIA PSICOLOGICA CONTRA MULHER ART 147B</td>\n",
       "      <td>Consumado</td>\n",
       "      <td>PORTO ALEGRE</td>\n",
       "      <td>RESIDENCIA</td>\n",
       "      <td>São José</td>\n",
       "      <td>1.0</td>\n",
       "      <td>21.0</td>\n",
       "      <td>Feminino</td>\n",
       "      <td>Branca</td>\n",
       "    </tr>\n",
       "    <tr>\n",
       "      <th>3</th>\n",
       "      <td>01/01/2024</td>\n",
       "      <td>00:01:00</td>\n",
       "      <td>CRIMES</td>\n",
       "      <td>ESTUPRO DE VULNERAVEL</td>\n",
       "      <td>Consumado</td>\n",
       "      <td>SANTA CRUZ DO SUL</td>\n",
       "      <td>RESIDENCIA</td>\n",
       "      <td>Cristal</td>\n",
       "      <td>1.0</td>\n",
       "      <td>8.0</td>\n",
       "      <td>Feminino</td>\n",
       "      <td>Parda</td>\n",
       "    </tr>\n",
       "    <tr>\n",
       "      <th>4</th>\n",
       "      <td>01/01/2024</td>\n",
       "      <td>00:01:00</td>\n",
       "      <td>CRIMES</td>\n",
       "      <td>OUTROS CRIMES CONTRA A CRIANCA/ADOLESCENTE</td>\n",
       "      <td>Consumado</td>\n",
       "      <td>ARROIO DO SAL</td>\n",
       "      <td>RESIDENCIA</td>\n",
       "      <td>NaN</td>\n",
       "      <td>1.0</td>\n",
       "      <td>2.0</td>\n",
       "      <td>Masculino</td>\n",
       "      <td>Branca</td>\n",
       "    </tr>\n",
       "    <tr>\n",
       "      <th>5</th>\n",
       "      <td>01/01/2024</td>\n",
       "      <td>00:01:00</td>\n",
       "      <td>CRIMES</td>\n",
       "      <td>FURTO DE VEICULO</td>\n",
       "      <td>Consumado</td>\n",
       "      <td>ESPUMOSO</td>\n",
       "      <td>RESIDENCIA</td>\n",
       "      <td>Martini</td>\n",
       "      <td>1.0</td>\n",
       "      <td>45.0</td>\n",
       "      <td>Masculino</td>\n",
       "      <td>Branca</td>\n",
       "    </tr>\n",
       "    <tr>\n",
       "      <th>6</th>\n",
       "      <td>01/01/2024</td>\n",
       "      <td>00:01:00</td>\n",
       "      <td>CRIMES</td>\n",
       "      <td>FURTO QUALIFICADO</td>\n",
       "      <td>Consumado</td>\n",
       "      <td>RIO GRANDE</td>\n",
       "      <td>OUTROS</td>\n",
       "      <td>Santa Rita de Cássia</td>\n",
       "      <td>1.0</td>\n",
       "      <td>41.0</td>\n",
       "      <td>Masculino</td>\n",
       "      <td>Sem informação</td>\n",
       "    </tr>\n",
       "    <tr>\n",
       "      <th>7</th>\n",
       "      <td>01/01/2024</td>\n",
       "      <td>00:01:00</td>\n",
       "      <td>CRIMES</td>\n",
       "      <td>FURTO/ARROMBAMENTO DE RESIDENCIA</td>\n",
       "      <td>Consumado</td>\n",
       "      <td>SAO LEOPOLDO</td>\n",
       "      <td>OUTROS</td>\n",
       "      <td>Fião</td>\n",
       "      <td>1.0</td>\n",
       "      <td>75.0</td>\n",
       "      <td>Masculino</td>\n",
       "      <td>Sem informação</td>\n",
       "    </tr>\n",
       "    <tr>\n",
       "      <th>8</th>\n",
       "      <td>01/01/2024</td>\n",
       "      <td>00:01:00</td>\n",
       "      <td>CRIMES</td>\n",
       "      <td>ESTUPRO DE VULNERAVEL</td>\n",
       "      <td>Consumado</td>\n",
       "      <td>IBIRUBA</td>\n",
       "      <td>RESIDENCIA</td>\n",
       "      <td>NaN</td>\n",
       "      <td>1.0</td>\n",
       "      <td>16.0</td>\n",
       "      <td>Feminino</td>\n",
       "      <td>Parda</td>\n",
       "    </tr>\n",
       "    <tr>\n",
       "      <th>9</th>\n",
       "      <td>01/01/2024</td>\n",
       "      <td>00:01:00</td>\n",
       "      <td>CRIMES</td>\n",
       "      <td>OUTROS CRIMES CONTRA A CRIANCA/ADOLESCENTE</td>\n",
       "      <td>Consumado</td>\n",
       "      <td>CAMAQUA</td>\n",
       "      <td>RESIDENCIA</td>\n",
       "      <td>Floresta</td>\n",
       "      <td>1.0</td>\n",
       "      <td>5.0</td>\n",
       "      <td>Feminino</td>\n",
       "      <td>Branca</td>\n",
       "    </tr>\n",
       "  </tbody>\n",
       "</table>\n",
       "</div>"
      ],
      "text/plain": [
       "         Data      Hora  Gênero                                       Espécie  \\\n",
       "0  01/01/2024  00:01:00  CRIMES                                FURTO ABIGEATO   \n",
       "1  01/01/2024  00:01:00  CRIMES                                   ESTELIONATO   \n",
       "2  01/01/2024  00:01:00  CRIMES  VIOLENCIA PSICOLOGICA CONTRA MULHER ART 147B   \n",
       "3  01/01/2024  00:01:00  CRIMES                         ESTUPRO DE VULNERAVEL   \n",
       "4  01/01/2024  00:01:00  CRIMES    OUTROS CRIMES CONTRA A CRIANCA/ADOLESCENTE   \n",
       "5  01/01/2024  00:01:00  CRIMES                              FURTO DE VEICULO   \n",
       "6  01/01/2024  00:01:00  CRIMES                             FURTO QUALIFICADO   \n",
       "7  01/01/2024  00:01:00  CRIMES              FURTO/ARROMBAMENTO DE RESIDENCIA   \n",
       "8  01/01/2024  00:01:00  CRIMES                         ESTUPRO DE VULNERAVEL   \n",
       "9  01/01/2024  00:01:00  CRIMES    OUTROS CRIMES CONTRA A CRIANCA/ADOLESCENTE   \n",
       "\n",
       "  Consumação          Município       Local                Bairro  Vítimas  \\\n",
       "0  Consumado     ROSARIO DO SUL      OUTROS             Vila Nova      0.0   \n",
       "1  Consumado               BAGE      OUTROS                Centro      1.0   \n",
       "2  Consumado       PORTO ALEGRE  RESIDENCIA              São José      1.0   \n",
       "3  Consumado  SANTA CRUZ DO SUL  RESIDENCIA               Cristal      1.0   \n",
       "4  Consumado      ARROIO DO SAL  RESIDENCIA                   NaN      1.0   \n",
       "5  Consumado           ESPUMOSO  RESIDENCIA               Martini      1.0   \n",
       "6  Consumado         RIO GRANDE      OUTROS  Santa Rita de Cássia      1.0   \n",
       "7  Consumado       SAO LEOPOLDO      OUTROS                  Fião      1.0   \n",
       "8  Consumado            IBIRUBA  RESIDENCIA                   NaN      1.0   \n",
       "9  Consumado            CAMAQUA  RESIDENCIA              Floresta      1.0   \n",
       "\n",
       "   Idade       Sexo             Cor  \n",
       "0    NaN        NaN             NaN  \n",
       "1   22.0  Masculino          Branca  \n",
       "2   21.0   Feminino          Branca  \n",
       "3    8.0   Feminino           Parda  \n",
       "4    2.0  Masculino          Branca  \n",
       "5   45.0  Masculino          Branca  \n",
       "6   41.0  Masculino  Sem informação  \n",
       "7   75.0  Masculino  Sem informação  \n",
       "8   16.0   Feminino           Parda  \n",
       "9    5.0   Feminino          Branca  "
      ]
     },
     "execution_count": 5,
     "metadata": {},
     "output_type": "execute_result"
    }
   ],
   "source": [
    "df_2024.head(10)\n"
   ]
  },
  {
   "cell_type": "code",
   "execution_count": 8,
   "id": "14188969",
   "metadata": {},
   "outputs": [
    {
     "name": "stdout",
     "output_type": "stream",
     "text": [
      "<class 'pandas.core.frame.DataFrame'>\n",
      "RangeIndex: 754323 entries, 0 to 754322\n",
      "Data columns (total 12 columns):\n",
      " #   Column      Non-Null Count   Dtype  \n",
      "---  ------      --------------   -----  \n",
      " 0    Data       754323 non-null  object \n",
      " 1   Hora        754323 non-null  object \n",
      " 2   Gênero      754323 non-null  object \n",
      " 3   Espécie     754323 non-null  object \n",
      " 4   Consumação  754323 non-null  object \n",
      " 5   Município   754323 non-null  object \n",
      " 6   Local       754323 non-null  object \n",
      " 7   Bairro      597501 non-null  object \n",
      " 8   Vítimas     754319 non-null  float64\n",
      " 9   Idade       610307 non-null  float64\n",
      " 10  Sexo        609818 non-null  object \n",
      " 11  Cor         610675 non-null  object \n",
      "dtypes: float64(2), object(10)\n",
      "memory usage: 69.1+ MB\n"
     ]
    }
   ],
   "source": [
    "df_2024.info()"
   ]
  },
  {
   "cell_type": "markdown",
   "id": "5b3babb2",
   "metadata": {},
   "source": [
    "### **Crimes em Espécie**\n"
   ]
  },
  {
   "cell_type": "code",
   "execution_count": 13,
   "id": "1ce78a9a",
   "metadata": {},
   "outputs": [
    {
     "data": {
      "text/plain": [
       "array(['FURTO ABIGEATO', 'ESTELIONATO',\n",
       "       'VIOLENCIA PSICOLOGICA CONTRA MULHER ART 147B',\n",
       "       'ESTUPRO DE VULNERAVEL',\n",
       "       'OUTROS CRIMES CONTRA A CRIANCA/ADOLESCENTE', 'FURTO DE VEICULO',\n",
       "       'FURTO QUALIFICADO', 'FURTO/ARROMBAMENTO DE RESIDENCIA',\n",
       "       'FURTO/ARROMBAMENTO ESTABELECIMENTO COMERCIAL', 'AMEACA',\n",
       "       'FURTO SIMPLES', 'INJURIA', 'APROPRIACAO INDEBITA',\n",
       "       'DESCUMPRIMENTO DE MEDIDA PROTETIVA DE URGENCIA', 'LESAO CORPORAL',\n",
       "       'OUTROS CRIMES', 'MAUS TRATOS',\n",
       "       'ORGANIZACAO CRIMINOSA ART 2 DA LEI 12850 DE 2013', 'VIAS DE FATO',\n",
       "       'ENTORPECENTES - TRAFICO',\n",
       "       'PERTURBACAO DO TRABALHO OU DO SOSSEGO ALHEIOS', 'ASSEDIO SEXUAL',\n",
       "       'DISPARO DE ARMA DE FOGO', 'FURTO DE TELEFONE CELULAR',\n",
       "       'INCENDIO DOLOSO', 'PORNOGRAFIA INFANTO-JUVENIL',\n",
       "       'ABANDONO MATERIAL', 'DESACATO',\n",
       "       'OUTROS CRIMES CONTRA MEIO AMBIENTE', 'DANO', 'FURTO/ARROMBAMENTO',\n",
       "       'PERMITIR,CONFIAR,OU ENTREG. DIRECAO A PESSOA S/HABIL.ART 310',\n",
       "       'FUGA DE LOCAL DE ACIDENTE - ART. 305', 'IMPORTUNACAO SEXUAL',\n",
       "       'FURTO SIMPLES EM RESIDENCIA', 'RESISTENCIA',\n",
       "       'ENTORPECENTES  POSSE',\n",
       "       'POSSE OU PORTE ILEGAL DE ARMA DE FOGO DE USO PROIBIDO',\n",
       "       'POSSE OU PORTE ILEGAL DE ARMA DE FOGO DE USO RESTRITO',\n",
       "       'LESAO CORPORAL CULPOSA DIRECAO VEIC AUTOMOTOR', 'OUTROS FURTOS',\n",
       "       'COMUNICACAO FALSA DE CRIME OU CONTRAVENCAO', 'FURTO DE DOCUMENTO',\n",
       "       'INJURIA DISCRIMINATORIA', 'FURTO EM VEICULO',\n",
       "       'ROUBO A PEDESTRE COM LESOES', 'ROUBO A PEDESTRE',\n",
       "       'ROUBO DE VEICULO', 'LESAO CORPORAL LEVE', 'EMBRIAGUEZ - ART. 306',\n",
       "       'OUTROS CRIMES CONTRA O IDOSO', 'PERSEGUICAO',\n",
       "       'EXPLORACAO SEXUAL INFANTO-JUVENIL', 'PRECONCEITO RACA COR',\n",
       "       'OUTRAS FRAUDES', 'ROUBO A RESIDENCIA COM LESOES',\n",
       "       'SUBTRACAO DE INCAPAZ', 'DESOBEDIENCIA',\n",
       "       'VIOLAR A SUSPENSAO OU PROIBICAO DE DIRIGIR VEICULO ART.307',\n",
       "       'ROUBO A RESIDENCIA', 'DANO QUALIFICADO',\n",
       "       'ROUBO DE TELEFONE CELULAR',\n",
       "       'DIRIGIR SEM HABILITACAO GERANDO PERIGO DE DANO ART. 309',\n",
       "       'APROPRIACAO DE COISA ACHADA', 'ABANDONO DE INCAPAZ', 'RIXA',\n",
       "       'ADULTERACAO DE SINAL IDENTIFICADOR DE VEICULO AUTOMOTOR',\n",
       "       'TRAFEGAR COM VELOCIDADE INCOMPATIVEL COM A SEGURANCA ART.311',\n",
       "       'ROUBO DE DOCUMENTO', 'CALUNIA',\n",
       "       'FURTO/ARROMBAMENTO ESTABELECIMENTO BANCARIO',\n",
       "       'FURTO DE FIOS E CABOS', 'VIOLACAO DE SEPULTURA',\n",
       "       'CRIMES DE ABUSO DE AUTORIDADE', 'ROUBO COM LESOES',\n",
       "       'VIOLACAO DE DOMICILIO', 'FURTO DE DEFENSIVO AGRICOLA',\n",
       "       'ROUBO A ESTABELECIMENTO COMERCIAL', 'SEQUESTRO E CARCERE PRIVADO',\n",
       "       'LESAO CORPORAL CULPOSA', 'LESAO CORPORAL GRAVE',\n",
       "       'HOMICIDIO CULPOSO DIRECAO VEIC AUTOMOTOR',\n",
       "       'PORTE ILEGAL DE ARMA DE FOGO DE USO PERMITIDO',\n",
       "       'OMISSAO DE CAUTELA NA GUARDA OU CONDUCAO DE ANIMAIS',\n",
       "       'PORTE ARMA BRANCA', 'CRUELDADE CONTRA ANIMAIS',\n",
       "       'MAUS TRATOS CONTRA O IDOSO',\n",
       "       'POSSE IRREGULAR DE ARMA DE FOGO DE USO PERMITIDO',\n",
       "       'OUTROS CRIMES QUE GERAM TERMOS CIRCUNSTANCIADOS',\n",
       "       'OUTROS CRIMES CONTRA A PROPRIEDADE IMATERIAL', 'FURTO DE ARMA',\n",
       "       'ESBULHO POSSESSORIO', 'APROPRIACAO INDEBITA DE BEM DE IDOSO',\n",
       "       'OUTROS CRIMES CONTRA O SENTIMENTO RELIGIOSO', 'DIFAMACAO',\n",
       "       'ESTELIONATO  FRAUDE ELETRONICA',\n",
       "       'FAVORECIMENTO DA PROSTITUICAO OU DE OUTRA FORMA DE EXPLORACAO SEXUAL DE CRIANCA OU ADOLESCENTE OU DE VULNERAVEL',\n",
       "       'COACAO NO CURSO DO PROCESSO', 'USO DE DOCUMENTO FALSO',\n",
       "       'ENTORPECENTE  ASSOCIACAO', 'ESTUPRO',\n",
       "       'INVASAO DE DISPOSITIVO INFORMATICO',\n",
       "       'FACILITACAO DE CONTRABANDO OU DESCAMINHO', 'FALSIDADE IDEOLOGICA',\n",
       "       'EXTORSAO',\n",
       "       'CRIMES DE LAVAGEM OU OCULTACAO DE BENS DIREITOS E VALORES LEI 9613 DE 3 DE MARCO DE 1998',\n",
       "       'DENUNCIACAO CALUNIOSA', 'RECEPTACAO DE VEICULO',\n",
       "       'CONSTRANGIMENTO ILEGAL DE CRIANCA E ADOLESCENTE',\n",
       "       'CONDUTAS RELAC. A PEDOFILIA NA INTERNET E OTR MEIOS DE COMUNIC.',\n",
       "       'ESTELIONATO  FRAUDE COM A UTILIZACAO DE ATIVOS VIRTUAIS VALORES MOBILIARIOS OU ATIVOS FINANCEIROS',\n",
       "       'CRIME DE POLUICAO E OUTROS CRIMES AMBIENTAIS',\n",
       "       'ABANDONO DE IDOSO', 'OUTROS ROUBOS', 'INCENDIO CULPOSO',\n",
       "       'CONSTRANGIMENTO ILEGAL',\n",
       "       'RETENCAO DO CARTAO DE PESSOA COM DEFICIENCIA', 'HOMICIDIO DOLOSO',\n",
       "       'FALSA IDENTIDADE',\n",
       "       'PICHAR OU POR OUTRO MEIO CONSPURCAR EDIFICACAO OU MONUMENTO URBANO',\n",
       "       'HOMICIDIO CULPOSO', 'ROUBO DE VEICULO COM LESOES', 'ATO OBSCENO',\n",
       "       'RECEPTACAO', 'DIRECAO PERIGOSA (RACHA) ART 308',\n",
       "       'APROPRIACAO COISA HAVIDA POR ERRO CASO FORTUITO OU FORCA DA NATUREZA',\n",
       "       'DIVULGACAO DE CENA DE ESTUPRO DE SEXO OU DE PORNOGRAFIA',\n",
       "       'HOMICIDIO DECORRENTE DE OPOSICAO A INTERVENCAO POLICIAL',\n",
       "       'FURTO/ARROMBAMENTO A ESTABELECIMENTO DE ENSINO',\n",
       "       'PRECONCEITO DEFICIENCIA',\n",
       "       'CRIME CONTRA O ORDENAMENTO URBANO E PATRIMONIO CULTURAL',\n",
       "       'ROUBO A MOTORISTA DE LOTACAO', 'ALTERACAO LIMITES DIVISORIOS',\n",
       "       'CRIMES CONTRA A FLORA', 'FAVORECIMENTO REAL',\n",
       "       'SEQUESTRO RELAMPAGO',\n",
       "       'OUTROS CRIMES CONTRA A ADMINISTRACAO PUBLICA',\n",
       "       'CRIMES CONTRA A FAUNA',\n",
       "       'FALSIFICACAO DE PAPEIS/DOCUMENTOS PUBLICOS',\n",
       "       'OUTROS CRIMES CONTRA RELACAO DE CONSUMO EOU ECONOMIA POPULAR',\n",
       "       'SATISFACAO DE LASCIVIA MEDIANTE PRESENCA DE CRIANCA OU ADOLESCENTE',\n",
       "       'ASSOCIACAO CRIMINOSA ART 288 DO CP',\n",
       "       'CRIMES DE TORTURA   LEI 9455 DE 1997',\n",
       "       'FURTO EM VEICULO - ESTEPE', 'VIOLACAO DE SIGILO FUNCIONAL',\n",
       "       'ROUBO DE ARMA', 'EXERCICIO ARBITRARIO PROPRIAS RAZOES',\n",
       "       'ROUBO A MOTORISTA DE CARRO ENTREGAS',\n",
       "       'ROUBO A MOTORISTA DE APLICATIVO', 'CORRUPCAO ATIVA',\n",
       "       'FURTO DE COISA COMUM ART 156  SUBTRAIR O CONDOMINO COHERDEIRO OU SOCIO PARA SI OU PARA OUTREM A QUEM LEGITIMAMENTE A DETEM A COISA COMUM',\n",
       "       'ROUBO A MOTORISTA PARTICULAR',\n",
       "       'INFRACAO DE MEDIDA SANITARIA PREVENTIVA', 'PECULATO',\n",
       "       'EXERCICIO ILEGAL DA PROFISSAO', 'HOMOFOBIA TRANSFOBIA',\n",
       "       'CORRUPCAO DE MENORES', 'ROUBO A TRANSPORTE COLETIVO',\n",
       "       'CRIME CONTRA A ADMINISTRACAO AMBIENTAL',\n",
       "       'OUTROS CRIMES CONTRA O PATRIMONIO',\n",
       "       'OUTROS CRIMES CONTRA A LIBERDADE INDIVIDUAL',\n",
       "       'RECEPTACAO CULPOSA', 'FEMINICIDIO ART 121 PAR 2 VI',\n",
       "       'PERIGO A VIDA/SAUDE DE OUTREM', 'PRECONCEITO RELIGIAO',\n",
       "       'FURTO DE CARGA EM CAMINHAO', 'OUTROS CRIMES CONTRA A FE PUBLICA',\n",
       "       'ROUBO A PASSAGEIRO TRANSP. COLETIVO E LOTACAO',\n",
       "       'FRAUDE NO PAGAMENTO POR MEIO DE CHEQUE',\n",
       "       'DISCRIMINACAO A PESSOA COM DEFICIENCIA',\n",
       "       'EXERCICIO ARBITRARIO OU ABUSO DE PODER',\n",
       "       'VIOLACAO DE CORRESPONDENCIA',\n",
       "       'INOVAR ARTIFICIOSAMENTE,EM CASO DE ACIDENTE TRANSITO ART.312',\n",
       "       'OUTROS CRIMES CONTRA A INCOLUMIDADE PUBLICA',\n",
       "       'FORNECER PRODUTOS CRIANCA/ADOLESCENTE QUE CAUSAM DEPENDENCIA',\n",
       "       'ROUBO DE VEICULO COM MORTE', 'RECEPTACAO QUALIFICADA',\n",
       "       'FALSIFICACAO DE DOCUMENTOS PARTICULARES', 'USURPACAO DE AGUAS',\n",
       "       'JOGOS DE AZAR',\n",
       "       'CRIMES CONTRA O SISTEMA FINANCEIRO - LEI 7492/86',\n",
       "       'ROUBO A MOTORISTA COM LESOES',\n",
       "       'INJURIA QUALIFICADA  RACA COR ETNIA RELIGIAO OU ORIGEM',\n",
       "       'ROUBO A MOTORISTA DE TAXI',\n",
       "       'DESLEIXO EM INFORMACOES AO CONSUMIDOR',\n",
       "       'VIOLACAO SEXUAL MEDIANTE FRAUDE',\n",
       "       'OUTROS CRIMES CONTRA A FAMILIA',\n",
       "       'ATENTADO CONTRA SEGURANCA SERV UTILIDADE PUBLICA',\n",
       "       'OUTROS CRIMES CONTRA A ORGANIZACAO DO TRABALHO',\n",
       "       'COMERCIO ILEGAL DE ARMA DE FOGO',\n",
       "       'SUBTRACAO OU INUTILIZACAO DE LIVRO OU DOCUMENTO',\n",
       "       'PRECONCEITO ETNIA PROCEDENCIA NACIONAL',\n",
       "       'EXTRAVIO SONEGACAO OU INUTILIZACAO DE LIVRO OU DOCUMENTO',\n",
       "       'VILIPENDIO A CADAVER', 'EXTORSAO MEDIANTE SEQUESTRO',\n",
       "       'CONDICIONAMENTO DE ATENDIMENTO MEDICO HOSPITALAR EMERGENCIAL',\n",
       "       'FALSO TESTEMUNHO OU FALSA PERICIA', 'OMISSAO SOCORRO ART 135 CP',\n",
       "       'FAVORECIMENTO PESSOAL', 'ROUBO A MOTORISTA DE CARGA DE CAMINHAO',\n",
       "       'SERVIR BEBIDA ALCOOLICA A VULNERAVEIS',\n",
       "       'LESAO CORPORAL GRAVISSIMA', 'ABORTO', 'FURTO PRIVILEGIADO',\n",
       "       'ROUBO A ESTABELECIMENTO COMERCIAL COM LESOES',\n",
       "       'ADVOCACIA ADMINISTRATIVA',\n",
       "       'MODIFICACAO OU ALTERACAO NAO AUTORIZADA DE SISTEMA DE INFORMACOES',\n",
       "       'CRIME CONTRA A ORDEM TRIBUTARIA - LEI 8137/90', 'ROUBO COM MORTE',\n",
       "       'ATIVIDADE(S) COM RISCOS A SEGURANCA',\n",
       "       'SIMULACAO QUALIDADE DE FUNCIONARIO',\n",
       "       'USURPACAO DE FUNCAO PUBLICA', 'ROUBO A PEDESTRE COM MORTE',\n",
       "       'LESAO CORPORAL DECORRENTE DE OPOSICAO A INTERVENCAO POLICIAL',\n",
       "       'OMISSAO DE SOCORRO CONTRA O IDOSO', 'RUFIANISMO',\n",
       "       'DISPOR COISA ALHEIA COMO PROPRIA', 'DISCRIMINACAO CONTRA O IDOSO',\n",
       "       'LESAO CORPORAL SEGUIDA DE MORTE', 'CONCUSSAO',\n",
       "       'RECUSA DE DADOS SOBRE A PROPRIA IDENTIFICACAO OU QUALIFICACAO',\n",
       "       'DESCUMPRIMENTO DE LEI DE AGROTOXICOS', 'CORRUPCAO PASSIVA',\n",
       "       'APOLOGIA DE CRIME OU CRIMINOSO',\n",
       "       'ABANDONO DE PESSOA COM DEFICIENCIA', 'FRAUDE NO COMERCIO',\n",
       "       'NEGAR INFORMACOES AO CONSUMIDOR', 'ROUBO A RESIDENCIA COM MORTE',\n",
       "       'AMEACA A ESTABELECIMENTO DE ENSINO', 'PREVARICACAO',\n",
       "       'ABANDONO INTELECTUAL',\n",
       "       'APROPRIACAO DE BENS DE PESSOA COM DEFICIENCIA',\n",
       "       'CONDUTO INCONVENIENTE', 'ABUSO DE INCAPAZ', 'ROUBO A MALOTE',\n",
       "       'FABRICO COMERCIO OU DENTENCAO DE ARMA BRANCA OU MUNICAO',\n",
       "       'ROUBO A ESTABELECIMENTO BANCARIO', 'VENDA CASADA',\n",
       "       'CRIME CONTRA O SENTIMENTO RELIGIOSO E RESPEITO AOS MORTOS',\n",
       "       'OMISSAO DE SOCORRO  ART 304 DO CTB',\n",
       "       'HOMICIDIO DOLOSO NA DIRECAO DE VEICULO AUTOMOTOR',\n",
       "       'ARREMESSO DE PROJETIL  ART 264 CP',\n",
       "       'INSERCAO DE DADOS FALSOS EM SISTEMA DE INFORMACOES',\n",
       "       'DESTRUICAO, SUBTRACAO OU OCULTACAO DE CADAVER',\n",
       "       'ROUBO A PEDESTRE ESCOLAR', 'PRECONCEITO DE RACA E COR',\n",
       "       'OMISSAO CAUTELA ARMA FOGO',\n",
       "       'VIOLACAO DE DIREITO AUTORAL (PLAGIO)', 'ROUBO DE ARMA COM LESOES',\n",
       "       'ABANDONO DE FUNCAO', 'APOLOGIA AO NAZISMO',\n",
       "       'INTIMIDACAO  BULLYING', 'CRIME ELEITORAL',\n",
       "       'FALSIFICAO DE MEDICAMENTO  ART 273 CP',\n",
       "       'CRIME CONTRA SEGURANCA NACIONAL  LEI 71701983  ART 15 PRATICAR SABOTAGEM CONTRA INSTALACOES MILITARES MEIOS DE COMUNICACOES MEIOS E VIAS DE TRANSPORTE ESTALEIROS PORTOS AEROPORTOS FABRICAS USINAS BARRAGEM DEPOSITOS E OUTRAS INSTALACOES CONGENERES',\n",
       "       'INTIMIDACAO  CYBERBULLYING', 'ROUBO A MOTORISTA COM MORTE',\n",
       "       'RECEPTACAO DE ANIMAL', 'TRAFICO DE INFLUENCIA', 'CURANDERISMO',\n",
       "       'PROPAGANDA ENGANOSA', 'INCITACAO AO CRIME',\n",
       "       'SUPRESSAO OU ALTERACAO DE MARCA EM ANIMAIS',\n",
       "       'TRAFICO INTERNACIONAL DE ARMA DE FOGO', 'MOTIM DE PRESOS',\n",
       "       'FRAUDE A CREDORES', 'ROUBO A ESTABELECIMENTO COMERCIAL COM MORTE',\n",
       "       'REDUCAO A CONDICAO ANALOGA A DE ESCRAVO',\n",
       "       'INDUZIMENTO INSTIGAO AUXILIO AO SUICIDIO OU A AUTOMULTILAO',\n",
       "       'ROUBO A JOALHERIAS E OTICAS',\n",
       "       'FURTO/ARROMBAMENTO A CAIXA ELETRONICO', 'CRIME MILITAR',\n",
       "       'ATIVIDADE CLANDESTINA DE TELECOMUNICACOES',\n",
       "       'CONSTITUICAO DE MILICIA PRIVADA',\n",
       "       'DESENVOLVER OU INTRODUZIR COMANDO INSTRUO OU PROGRAMA DE COMPUTADOR CAPAZ DE DESTRUIR APAGAR ELIMINAR ALTERAR GRAVAR OU TRANSMITIR DADO INSTRUO OU PROGRAMA OU PROVOCAR QUALQUER OUTRO RESULTADO DIVERSO DO ESPERADO EM SISTEMA DE TRATAMENTO AUTOMATICO DE DADOS USADOS PELO SERVIO ELEITORAL',\n",
       "       'ROUBO A ESTABELEC. DE ENSINO', 'CASA DE PROSTITUICAO',\n",
       "       'CRIMES DA LEI GERAL DO ESPORTE', 'ROUBO A POSTO BANCARIO',\n",
       "       'ROUBO A MOTORISTA DE CARRO FORTE', 'OMISSAO NO TERMO DE GARANTIA',\n",
       "       'CHARLATANISMO', 'ROUBO A CASA LOTERICA', 'APROPRIACAO DE TESOURO',\n",
       "       'OUTROS CRIMES CONTRA A FAZENDA ESTADUAL',\n",
       "       'FORNECER ARMA, MUNICAO, EXPLOSIVO A CRIANCA/ADOLESCENTE',\n",
       "       'USO ILEGITIMO DE UNIFORME OU DISTINTIVO', 'INFANTICIDIO',\n",
       "       'FRAUDE PROCESSUAL',\n",
       "       'FURTO VEICULO AUTOMOTOR TRANSPORTE OUTRO ESTADO',\n",
       "       'FURTO QUALIFICADO EM VEICULO'], dtype=object)"
      ]
     },
     "execution_count": 13,
     "metadata": {},
     "output_type": "execute_result"
    }
   ],
   "source": [
    "df_2024[\"Espécie\"].unique()"
   ]
  },
  {
   "cell_type": "markdown",
   "id": "df8bfa9c",
   "metadata": {},
   "source": [
    "### **Frequência de Crimes**\n"
   ]
  },
  {
   "cell_type": "markdown",
   "id": "c622c288",
   "metadata": {},
   "source": [
    "##### Registros de 2022\n"
   ]
  },
  {
   "cell_type": "code",
   "execution_count": 5,
   "id": "49ec1a3a",
   "metadata": {},
   "outputs": [
    {
     "data": {
      "application/vnd.microsoft.datawrangler.viewer.v0+json": {
       "columns": [
        {
         "name": "Espécie",
         "rawType": "object",
         "type": "string"
        },
        {
         "name": "count",
         "rawType": "int64",
         "type": "integer"
        }
       ],
       "ref": "3e42018c-ab0d-44f4-8d3b-075bec252301",
       "rows": [
        [
         "AMEACA",
         "96391"
        ],
        [
         "ESTELIONATO",
         "90309"
        ],
        [
         "LESAO CORPORAL",
         "40619"
        ],
        [
         "OUTROS CRIMES",
         "28955"
        ],
        [
         "LESAO CORPORAL CULPOSA DIRECAO VEIC AUTOMOTOR",
         "25192"
        ],
        [
         "ROUBO A PEDESTRE",
         "25063"
        ],
        [
         "VIAS DE FATO",
         "18834"
        ],
        [
         "FURTO SIMPLES",
         "16896"
        ],
        [
         "FURTO QUALIFICADO",
         "16466"
        ],
        [
         "OUTRAS FRAUDES",
         "15301"
        ]
       ],
       "shape": {
        "columns": 1,
        "rows": 10
       }
      },
      "text/plain": [
       "Espécie\n",
       "AMEACA                                           96391\n",
       "ESTELIONATO                                      90309\n",
       "LESAO CORPORAL                                   40619\n",
       "OUTROS CRIMES                                    28955\n",
       "LESAO CORPORAL CULPOSA DIRECAO VEIC AUTOMOTOR    25192\n",
       "ROUBO A PEDESTRE                                 25063\n",
       "VIAS DE FATO                                     18834\n",
       "FURTO SIMPLES                                    16896\n",
       "FURTO QUALIFICADO                                16466\n",
       "OUTRAS FRAUDES                                   15301\n",
       "Name: count, dtype: int64"
      ]
     },
     "execution_count": 5,
     "metadata": {},
     "output_type": "execute_result"
    }
   ],
   "source": [
    "df_2022[\"Espécie\"].value_counts().head(10)\n"
   ]
  },
  {
   "cell_type": "markdown",
   "id": "41cf4785",
   "metadata": {},
   "source": [
    "##### Registros de 2023\n"
   ]
  },
  {
   "cell_type": "code",
   "execution_count": 4,
   "id": "c9c34603",
   "metadata": {},
   "outputs": [
    {
     "data": {
      "application/vnd.microsoft.datawrangler.viewer.v0+json": {
       "columns": [
        {
         "name": "Espécie",
         "rawType": "object",
         "type": "string"
        },
        {
         "name": "count",
         "rawType": "int64",
         "type": "integer"
        }
       ],
       "ref": "58973566-47c6-4ccf-a402-b44561e58db8",
       "rows": [
        [
         "AMEACA",
         "110679"
        ],
        [
         "ESTELIONATO",
         "89265"
        ],
        [
         "LESAO CORPORAL",
         "45478"
        ],
        [
         "OUTROS CRIMES",
         "43386"
        ],
        [
         "LESAO CORPORAL CULPOSA DIRECAO VEIC AUTOMOTOR",
         "30977"
        ],
        [
         "FURTO SIMPLES",
         "26908"
        ],
        [
         "OUTRAS FRAUDES",
         "23084"
        ],
        [
         "FURTO QUALIFICADO",
         "21781"
        ],
        [
         "VIAS DE FATO",
         "21529"
        ],
        [
         "ROUBO A PEDESTRE",
         "21128"
        ]
       ],
       "shape": {
        "columns": 1,
        "rows": 10
       }
      },
      "text/plain": [
       "Espécie\n",
       "AMEACA                                           110679\n",
       "ESTELIONATO                                       89265\n",
       "LESAO CORPORAL                                    45478\n",
       "OUTROS CRIMES                                     43386\n",
       "LESAO CORPORAL CULPOSA DIRECAO VEIC AUTOMOTOR     30977\n",
       "FURTO SIMPLES                                     26908\n",
       "OUTRAS FRAUDES                                    23084\n",
       "FURTO QUALIFICADO                                 21781\n",
       "VIAS DE FATO                                      21529\n",
       "ROUBO A PEDESTRE                                  21128\n",
       "Name: count, dtype: int64"
      ]
     },
     "execution_count": 4,
     "metadata": {},
     "output_type": "execute_result"
    }
   ],
   "source": [
    "df_2023[\"Espécie\"].value_counts().head(10)\n"
   ]
  },
  {
   "cell_type": "markdown",
   "id": "2950450c",
   "metadata": {},
   "source": [
    "##### Registros de 2024\n"
   ]
  },
  {
   "cell_type": "code",
   "execution_count": 14,
   "id": "08e7fc7c",
   "metadata": {},
   "outputs": [
    {
     "data": {
      "application/vnd.microsoft.datawrangler.viewer.v0+json": {
       "columns": [
        {
         "name": "Espécie",
         "rawType": "object",
         "type": "string"
        },
        {
         "name": "count",
         "rawType": "int64",
         "type": "integer"
        }
       ],
       "ref": "900eca88-da82-406f-8ebb-78446055d0e0",
       "rows": [
        [
         "AMEACA",
         "106563"
        ],
        [
         "ESTELIONATO",
         "79326"
        ],
        [
         "OUTROS CRIMES",
         "47817"
        ],
        [
         "LESAO CORPORAL",
         "44090"
        ],
        [
         "LESAO CORPORAL CULPOSA DIRECAO VEIC AUTOMOTOR",
         "31212"
        ],
        [
         "FURTO SIMPLES",
         "24563"
        ],
        [
         "VIAS DE FATO",
         "22062"
        ],
        [
         "OUTRAS FRAUDES",
         "21661"
        ],
        [
         "ENTORPECENTES - TRAFICO",
         "16646"
        ],
        [
         "INJURIA",
         "16645"
        ]
       ],
       "shape": {
        "columns": 1,
        "rows": 10
       }
      },
      "text/plain": [
       "Espécie\n",
       "AMEACA                                           106563\n",
       "ESTELIONATO                                       79326\n",
       "OUTROS CRIMES                                     47817\n",
       "LESAO CORPORAL                                    44090\n",
       "LESAO CORPORAL CULPOSA DIRECAO VEIC AUTOMOTOR     31212\n",
       "FURTO SIMPLES                                     24563\n",
       "VIAS DE FATO                                      22062\n",
       "OUTRAS FRAUDES                                    21661\n",
       "ENTORPECENTES - TRAFICO                           16646\n",
       "INJURIA                                           16645\n",
       "Name: count, dtype: int64"
      ]
     },
     "execution_count": 14,
     "metadata": {},
     "output_type": "execute_result"
    }
   ],
   "source": [
    "df_2024[\"Espécie\"].value_counts().head(10)"
   ]
  },
  {
   "cell_type": "markdown",
   "id": "527b0a2b",
   "metadata": {},
   "source": [
    "### **Índices Municipais**\n"
   ]
  },
  {
   "cell_type": "markdown",
   "id": "a215c0b3",
   "metadata": {},
   "source": [
    "##### DataFrames\n"
   ]
  },
  {
   "cell_type": "markdown",
   "id": "fd7515a3",
   "metadata": {},
   "source": [
    "- Crimes em 2022\n"
   ]
  },
  {
   "cell_type": "code",
   "execution_count": 6,
   "id": "6d43acc9",
   "metadata": {},
   "outputs": [
    {
     "data": {
      "application/vnd.microsoft.datawrangler.viewer.v0+json": {
       "columns": [
        {
         "name": "Município",
         "rawType": "object",
         "type": "string"
        },
        {
         "name": "count",
         "rawType": "int64",
         "type": "integer"
        }
       ],
       "ref": "ef92ee57-3dfa-4ff4-b774-882a2ff0ad44",
       "rows": [
        [
         "PORTO ALEGRE",
         "107974"
        ],
        [
         "CAXIAS DO SUL",
         "24136"
        ],
        [
         "CANOAS",
         "23233"
        ],
        [
         "PELOTAS",
         "17961"
        ],
        [
         "NOVO HAMBURGO",
         "17098"
        ],
        [
         "SANTA MARIA",
         "16250"
        ],
        [
         "SAO LEOPOLDO",
         "13661"
        ],
        [
         "GRAVATAI",
         "13342"
        ],
        [
         "VIAMAO",
         "13249"
        ],
        [
         "PASSO FUNDO",
         "12500"
        ]
       ],
       "shape": {
        "columns": 1,
        "rows": 10
       }
      },
      "text/plain": [
       "Município\n",
       "PORTO ALEGRE     107974\n",
       "CAXIAS DO SUL     24136\n",
       "CANOAS            23233\n",
       "PELOTAS           17961\n",
       "NOVO HAMBURGO     17098\n",
       "SANTA MARIA       16250\n",
       "SAO LEOPOLDO      13661\n",
       "GRAVATAI          13342\n",
       "VIAMAO            13249\n",
       "PASSO FUNDO       12500\n",
       "Name: count, dtype: int64"
      ]
     },
     "execution_count": 6,
     "metadata": {},
     "output_type": "execute_result"
    }
   ],
   "source": [
    "df_2022[\"Município\"].value_counts().head(10)"
   ]
  },
  {
   "cell_type": "markdown",
   "id": "438e4ddd",
   "metadata": {},
   "source": [
    "- Crimes em 2023\n"
   ]
  },
  {
   "cell_type": "code",
   "execution_count": 7,
   "id": "7fb69549",
   "metadata": {},
   "outputs": [
    {
     "data": {
      "application/vnd.microsoft.datawrangler.viewer.v0+json": {
       "columns": [
        {
         "name": "Município",
         "rawType": "object",
         "type": "string"
        },
        {
         "name": "count",
         "rawType": "int64",
         "type": "integer"
        }
       ],
       "ref": "d07aec6a-bcad-4d28-baf1-f20086cbb8ce",
       "rows": [
        [
         "PORTO ALEGRE",
         "138783"
        ],
        [
         "CAXIAS DO SUL",
         "29979"
        ],
        [
         "CANOAS",
         "29646"
        ],
        [
         "SANTA MARIA",
         "24206"
        ],
        [
         "PELOTAS",
         "21916"
        ],
        [
         "NOVO HAMBURGO",
         "17134"
        ],
        [
         "SAO LEOPOLDO",
         "17111"
        ],
        [
         "GRAVATAI",
         "17101"
        ],
        [
         "VIAMAO",
         "16867"
        ],
        [
         "PASSO FUNDO",
         "16807"
        ]
       ],
       "shape": {
        "columns": 1,
        "rows": 10
       }
      },
      "text/plain": [
       "Município\n",
       "PORTO ALEGRE     138783\n",
       "CAXIAS DO SUL     29979\n",
       "CANOAS            29646\n",
       "SANTA MARIA       24206\n",
       "PELOTAS           21916\n",
       "NOVO HAMBURGO     17134\n",
       "SAO LEOPOLDO      17111\n",
       "GRAVATAI          17101\n",
       "VIAMAO            16867\n",
       "PASSO FUNDO       16807\n",
       "Name: count, dtype: int64"
      ]
     },
     "execution_count": 7,
     "metadata": {},
     "output_type": "execute_result"
    }
   ],
   "source": [
    "df_2023[\"Município\"].value_counts().head(10)\n"
   ]
  },
  {
   "cell_type": "markdown",
   "id": "d8cf018b",
   "metadata": {},
   "source": [
    "- Crimes em 2024\n"
   ]
  },
  {
   "cell_type": "code",
   "execution_count": 8,
   "id": "be0c537e",
   "metadata": {},
   "outputs": [
    {
     "data": {
      "application/vnd.microsoft.datawrangler.viewer.v0+json": {
       "columns": [
        {
         "name": "Município",
         "rawType": "object",
         "type": "string"
        },
        {
         "name": "count",
         "rawType": "int64",
         "type": "integer"
        }
       ],
       "ref": "b6ccafb3-e725-41da-976b-812ad0b3cfcb",
       "rows": [
        [
         "PORTO ALEGRE",
         "121331"
        ],
        [
         "CAXIAS DO SUL",
         "29227"
        ],
        [
         "CANOAS",
         "26837"
        ],
        [
         "SANTA MARIA",
         "23103"
        ],
        [
         "PELOTAS",
         "20628"
        ],
        [
         "GRAVATAI",
         "16865"
        ],
        [
         "NOVO HAMBURGO",
         "16070"
        ],
        [
         "PASSO FUNDO",
         "15846"
        ],
        [
         "VIAMAO",
         "15488"
        ],
        [
         "SAO LEOPOLDO",
         "14735"
        ]
       ],
       "shape": {
        "columns": 1,
        "rows": 10
       }
      },
      "text/plain": [
       "Município\n",
       "PORTO ALEGRE     121331\n",
       "CAXIAS DO SUL     29227\n",
       "CANOAS            26837\n",
       "SANTA MARIA       23103\n",
       "PELOTAS           20628\n",
       "GRAVATAI          16865\n",
       "NOVO HAMBURGO     16070\n",
       "PASSO FUNDO       15846\n",
       "VIAMAO            15488\n",
       "SAO LEOPOLDO      14735\n",
       "Name: count, dtype: int64"
      ]
     },
     "execution_count": 8,
     "metadata": {},
     "output_type": "execute_result"
    }
   ],
   "source": [
    "df_2024[\"Município\"].value_counts().head(10)\n"
   ]
  },
  {
   "cell_type": "markdown",
   "id": "2795b466",
   "metadata": {},
   "source": [
    "##### Plotagens\n"
   ]
  },
  {
   "cell_type": "markdown",
   "id": "0c162c9d",
   "metadata": {},
   "source": [
    "- Crimes em 2022\n"
   ]
  },
  {
   "cell_type": "code",
   "execution_count": 9,
   "id": "bd6bb3ec",
   "metadata": {},
   "outputs": [
    {
     "data": {
      "image/png": "[encoded data removed]",
      "text/plain": [
       "<Figure size 1000x500 with 1 Axes>"
      ]
     },
     "metadata": {},
     "output_type": "display_data"
    }
   ],
   "source": [
    "plt.figure(figsize=(10, 5))\n",
    "sns.barplot(\n",
    "    x=df_2022[\"Município\"].value_counts().head(10).index,\n",
    "    y=df_2022[\"Município\"].value_counts().head(10).values,\n",
    ")\n",
    "plt.title(\"ÍNDICES MUNICIPAIS DE 2022\")\n",
    "plt.xlabel(\"MUNICÍPIOS\")\n",
    "plt.xticks(rotation=45)\n",
    "plt.ylabel(\"QTD. CRIMES\")\n",
    "plt.show()"
   ]
  },
  {
   "cell_type": "markdown",
   "id": "2f8a5694",
   "metadata": {},
   "source": [
    "- Crimes em 2023\n"
   ]
  },
  {
   "cell_type": "code",
   "execution_count": 11,
   "id": "ceb7e45f",
   "metadata": {},
   "outputs": [
    {
     "data": {
      "image/png": "[encoded data removed]",
      "text/plain": [
       "<Figure size 1000x500 with 1 Axes>"
      ]
     },
     "metadata": {},
     "output_type": "display_data"
    }
   ],
   "source": [
    "plt.figure(figsize=(10, 5))\n",
    "sns.barplot(\n",
    "    x=df_2023[\"Município\"].value_counts().head(10).index,\n",
    "    y=df_2023[\"Município\"].value_counts().head(10).values,\n",
    ")\n",
    "plt.title(\"ÍNDICES MUNICIPAIS DE 2023\")\n",
    "plt.xlabel(\"MUNICÍPIOS\")\n",
    "plt.xticks(rotation=45)\n",
    "plt.ylabel(\"QTD. CRIMES\")\n",
    "plt.show()\n"
   ]
  },
  {
   "cell_type": "markdown",
   "id": "b2a41cd2",
   "metadata": {},
   "source": [
    "- Crimes em 2024\n"
   ]
  },
  {
   "cell_type": "code",
   "execution_count": 12,
   "id": "51e0fd5a",
   "metadata": {},
   "outputs": [
    {
     "data": {
      "image/png": "[encoded data removed]",
      "text/plain": [
       "<Figure size 1000x500 with 1 Axes>"
      ]
     },
     "metadata": {},
     "output_type": "display_data"
    }
   ],
   "source": [
    "plt.figure(figsize=(10, 5))\n",
    "sns.barplot(\n",
    "    x=df_2024[\"Município\"].value_counts().head(10).index,\n",
    "    y=df_2024[\"Município\"].value_counts().head(10).values,\n",
    ")\n",
    "plt.title(\"ÍNDICES MUNICIPAIS DE 2024\")\n",
    "plt.xlabel(\"MUNICÍPIOS\")\n",
    "plt.xticks(rotation=45)\n",
    "plt.ylabel(\"QTD. CRIMES\")\n",
    "plt.show()\n"
   ]
  },
  {
   "cell_type": "markdown",
   "id": "1fb44c16",
   "metadata": {},
   "source": [
    "### **Distribuição por Vítimas**\n"
   ]
  },
  {
   "cell_type": "markdown",
   "id": "d0489b6a",
   "metadata": {},
   "source": [
    "##### DataFrames\n"
   ]
  },
  {
   "cell_type": "markdown",
   "id": "11f9dbb9",
   "metadata": {},
   "source": [
    "- Registros de 2022\n"
   ]
  },
  {
   "cell_type": "code",
   "execution_count": 13,
   "id": "843801ed",
   "metadata": {},
   "outputs": [
    {
     "data": {
      "application/vnd.microsoft.datawrangler.viewer.v0+json": {
       "columns": [
        {
         "name": "Sexo",
         "rawType": "object",
         "type": "string"
        },
        {
         "name": "Vítimas",
         "rawType": "float64",
         "type": "float"
        }
       ],
       "ref": "ec0a46c6-ff33-4f89-a30f-8b0aca4d1e37",
       "rows": [
        [
         "Feminino",
         "335205.0"
        ],
        [
         "Masculino",
         "310393.0"
        ]
       ],
       "shape": {
        "columns": 1,
        "rows": 2
       }
      },
      "text/plain": [
       "Sexo\n",
       "Feminino     335205.0\n",
       "Masculino    310393.0\n",
       "Name: Vítimas, dtype: float64"
      ]
     },
     "execution_count": 13,
     "metadata": {},
     "output_type": "execute_result"
    }
   ],
   "source": [
    "df_2022.groupby(\"Sexo\")[\"Vítimas\"].sum()"
   ]
  },
  {
   "cell_type": "markdown",
   "id": "262e2d9e",
   "metadata": {},
   "source": [
    "- Registros de 2023\n"
   ]
  },
  {
   "cell_type": "code",
   "execution_count": 14,
   "id": "edf12196",
   "metadata": {},
   "outputs": [
    {
     "data": {
      "application/vnd.microsoft.datawrangler.viewer.v0+json": {
       "columns": [
        {
         "name": "Sexo",
         "rawType": "object",
         "type": "string"
        },
        {
         "name": "Vítimas",
         "rawType": "float64",
         "type": "float"
        }
       ],
       "ref": "5a337e47-d2b7-4dc2-8bd3-1c7a8338527c",
       "rows": [
        [
         "Feminino",
         "363053.0"
        ],
        [
         "Masculino",
         "328785.0"
        ]
       ],
       "shape": {
        "columns": 1,
        "rows": 2
       }
      },
      "text/plain": [
       "Sexo\n",
       "Feminino     363053.0\n",
       "Masculino    328785.0\n",
       "Name: Vítimas, dtype: float64"
      ]
     },
     "execution_count": 14,
     "metadata": {},
     "output_type": "execute_result"
    }
   ],
   "source": [
    "df_2023.groupby(\"Sexo\")[\"Vítimas\"].sum()\n"
   ]
  },
  {
   "cell_type": "markdown",
   "id": "6ecb971c",
   "metadata": {},
   "source": [
    "- Registros de 2024\n"
   ]
  },
  {
   "cell_type": "code",
   "execution_count": 15,
   "id": "92260ddc",
   "metadata": {},
   "outputs": [
    {
     "data": {
      "application/vnd.microsoft.datawrangler.viewer.v0+json": {
       "columns": [
        {
         "name": "Sexo",
         "rawType": "object",
         "type": "string"
        },
        {
         "name": "Vítimas",
         "rawType": "float64",
         "type": "float"
        }
       ],
       "ref": "d01efb81-1090-4e78-8ab9-93bdb11253e5",
       "rows": [
        [
         "Feminino",
         "351588.0"
        ],
        [
         "Masculino",
         "311407.0"
        ]
       ],
       "shape": {
        "columns": 1,
        "rows": 2
       }
      },
      "text/plain": [
       "Sexo\n",
       "Feminino     351588.0\n",
       "Masculino    311407.0\n",
       "Name: Vítimas, dtype: float64"
      ]
     },
     "execution_count": 15,
     "metadata": {},
     "output_type": "execute_result"
    }
   ],
   "source": [
    "df_2024.groupby(\"Sexo\")[\"Vítimas\"].sum()\n"
   ]
  },
  {
   "cell_type": "markdown",
   "id": "dc6f64bf",
   "metadata": {},
   "source": [
    "##### Plotagem\n"
   ]
  },
  {
   "cell_type": "markdown",
   "id": "ad9671a9",
   "metadata": {},
   "source": [
    "- Registros de 2022\n"
   ]
  },
  {
   "cell_type": "code",
   "execution_count": 16,
   "id": "4ad7d981",
   "metadata": {},
   "outputs": [
    {
     "data": {
      "image/png": "[encoded data removed]",
      "text/plain": [
       "<Figure size 1000x500 with 1 Axes>"
      ]
     },
     "metadata": {},
     "output_type": "display_data"
    }
   ],
   "source": [
    "plt.figure(figsize=(10, 5))\n",
    "sns.barplot(\n",
    "    x=df_2022.groupby(\"Sexo\")[\"Vítimas\"].sum().index,\n",
    "    y=df_2022.groupby(\"Sexo\")[\"Vítimas\"].sum().values,\n",
    ")\n",
    "plt.title(\"VÍTIMAS POR SEXO\")\n",
    "plt.xlabel(\"SEXO\")\n",
    "plt.xticks(rotation=45)\n",
    "plt.ylabel(\"QTD. VÍTIMAS\")\n",
    "plt.show()\n"
   ]
  },
  {
   "cell_type": "markdown",
   "id": "afc315b5",
   "metadata": {},
   "source": [
    "- Registros de 2023\n"
   ]
  },
  {
   "cell_type": "code",
   "execution_count": 17,
   "id": "53b4fff1",
   "metadata": {},
   "outputs": [
    {
     "data": {
      "image/png": "[encoded data removed]",
      "text/plain": [
       "<Figure size 1000x500 with 1 Axes>"
      ]
     },
     "metadata": {},
     "output_type": "display_data"
    }
   ],
   "source": [
    "plt.figure(figsize=(10, 5))\n",
    "sns.barplot(\n",
    "    x=df_2023.groupby(\"Sexo\")[\"Vítimas\"].sum().index,\n",
    "    y=df_2023.groupby(\"Sexo\")[\"Vítimas\"].sum().values,\n",
    ")\n",
    "plt.title(\"VÍTIMAS POR SEXO\")\n",
    "plt.xlabel(\"SEXO\")\n",
    "plt.xticks(rotation=45)\n",
    "plt.ylabel(\"QTD. VÍTIMAS\")\n",
    "plt.show()\n"
   ]
  },
  {
   "cell_type": "markdown",
   "id": "b025e546",
   "metadata": {},
   "source": [
    "- Registros de 2024\n"
   ]
  },
  {
   "cell_type": "code",
   "execution_count": 18,
   "id": "83e56bf2",
   "metadata": {},
   "outputs": [
    {
     "data": {
      "image/png": "[encoded data removed]",
      "text/plain": [
       "<Figure size 1000x500 with 1 Axes>"
      ]
     },
     "metadata": {},
     "output_type": "display_data"
    }
   ],
   "source": [
    "plt.figure(figsize=(10, 5))\n",
    "sns.barplot(\n",
    "    x=df_2024.groupby(\"Sexo\")[\"Vítimas\"].sum().index,\n",
    "    y=df_2024.groupby(\"Sexo\")[\"Vítimas\"].sum().values,\n",
    ")\n",
    "plt.title(\"VÍTIMAS POR SEXO\")\n",
    "plt.xlabel(\"SEXO\")\n",
    "plt.xticks(rotation=45)\n",
    "plt.ylabel(\"QTD. VÍTIMAS\")\n",
    "plt.show()\n"
   ]
  },
  {
   "cell_type": "code",
   "execution_count": null,
   "id": "83048340",
   "metadata": {},
   "outputs": [],
   "source": []
  }
 ],
 "metadata": {
  "kernelspec": {
   "display_name": ".venv",
   "language": "python",
   "name": "python3"
  },
  "language_info": {
   "codemirror_mode": {
    "name": "ipython",
    "version": 3
   },
   "file_extension": ".py",
   "mimetype": "text/x-python",
   "name": "python",
   "nbconvert_exporter": "python",
   "pygments_lexer": "ipython3",
   "version": "3.12.10"
  }
 },
 "nbformat": 4,
 "nbformat_minor": 5
}
