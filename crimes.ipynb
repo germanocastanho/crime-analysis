{
 "cells": [
  {
   "cell_type": "markdown",
   "id": "bb367482",
   "metadata": {},
   "source": [
    "# **Crimes RS**\n"
   ]
  },
  {
   "cell_type": "code",
   "execution_count": 3,
   "id": "e41c8e1f",
   "metadata": {},
   "outputs": [],
   "source": [
    "import matplotlib.pyplot as plt\n",
    "import pandas as pd"
   ]
  },
  {
   "cell_type": "code",
   "execution_count": 4,
   "id": "e507e092",
   "metadata": {},
   "outputs": [],
   "source": [
    "df = pd.read_csv(\"data/data_2024.csv\", index_col=0)"
   ]
  },
  {
   "cell_type": "markdown",
   "id": "601b3b06",
   "metadata": {},
   "source": [
    "### **Resumo do DataFrame**\n"
   ]
  },
  {
   "cell_type": "code",
   "execution_count": 5,
   "id": "5071c2d2",
   "metadata": {},
   "outputs": [
    {
     "data": {
      "application/vnd.microsoft.datawrangler.viewer.v0+json": {
       "columns": [
        {
         "name": " Data",
         "rawType": "object",
         "type": "string"
        },
        {
         "name": "Hora",
         "rawType": "object",
         "type": "string"
        },
        {
         "name": "Gênero",
         "rawType": "object",
         "type": "string"
        },
        {
         "name": "Espécie",
         "rawType": "object",
         "type": "string"
        },
        {
         "name": "Consumação",
         "rawType": "object",
         "type": "string"
        },
        {
         "name": "Município",
         "rawType": "object",
         "type": "string"
        },
        {
         "name": "Local",
         "rawType": "object",
         "type": "string"
        },
        {
         "name": "Bairro",
         "rawType": "object",
         "type": "unknown"
        },
        {
         "name": "Vítimas",
         "rawType": "float64",
         "type": "float"
        },
        {
         "name": "Idade",
         "rawType": "float64",
         "type": "float"
        },
        {
         "name": "Sexo",
         "rawType": "object",
         "type": "unknown"
        },
        {
         "name": "Cor",
         "rawType": "object",
         "type": "unknown"
        }
       ],
       "ref": "a87454fd-fcb3-4d03-9aef-ec92b127ee50",
       "rows": [
        [
         "01/01/2024",
         "00:01:00",
         "CRIMES",
         "FURTO ABIGEATO",
         "Consumado",
         "ROSARIO DO SUL",
         "OUTROS",
         "Vila Nova",
         "0.0",
         null,
         null,
         null
        ],
        [
         "01/01/2024",
         "00:01:00",
         "CRIMES",
         "ESTELIONATO",
         "Consumado",
         "BAGE",
         "OUTROS",
         "Centro",
         "1.0",
         "22.0",
         "Masculino",
         "Branca"
        ],
        [
         "01/01/2024",
         "00:01:00",
         "CRIMES",
         "VIOLENCIA PSICOLOGICA CONTRA MULHER ART 147B",
         "Consumado",
         "PORTO ALEGRE",
         "RESIDENCIA",
         "São José",
         "1.0",
         "21.0",
         "Feminino",
         "Branca"
        ],
        [
         "01/01/2024",
         "00:01:00",
         "CRIMES",
         "ESTUPRO DE VULNERAVEL",
         "Consumado",
         "SANTA CRUZ DO SUL",
         "RESIDENCIA",
         "Cristal",
         "1.0",
         "8.0",
         "Feminino",
         "Parda"
        ],
        [
         "01/01/2024",
         "00:01:00",
         "CRIMES",
         "OUTROS CRIMES CONTRA A CRIANCA/ADOLESCENTE",
         "Consumado",
         "ARROIO DO SAL",
         "RESIDENCIA",
         null,
         "1.0",
         "2.0",
         "Masculino",
         "Branca"
        ],
        [
         "01/01/2024",
         "00:01:00",
         "CRIMES",
         "FURTO DE VEICULO",
         "Consumado",
         "ESPUMOSO",
         "RESIDENCIA",
         "Martini",
         "1.0",
         "45.0",
         "Masculino",
         "Branca"
        ],
        [
         "01/01/2024",
         "00:01:00",
         "CRIMES",
         "FURTO QUALIFICADO",
         "Consumado",
         "RIO GRANDE",
         "OUTROS",
         "Santa Rita de Cássia",
         "1.0",
         "41.0",
         "Masculino",
         "Sem informação"
        ],
        [
         "01/01/2024",
         "00:01:00",
         "CRIMES",
         "FURTO/ARROMBAMENTO DE RESIDENCIA",
         "Consumado",
         "SAO LEOPOLDO",
         "OUTROS",
         "Fião",
         "1.0",
         "75.0",
         "Masculino",
         "Sem informação"
        ],
        [
         "01/01/2024",
         "00:01:00",
         "CRIMES",
         "ESTUPRO DE VULNERAVEL",
         "Consumado",
         "IBIRUBA",
         "RESIDENCIA",
         null,
         "1.0",
         "16.0",
         "Feminino",
         "Parda"
        ],
        [
         "01/01/2024",
         "00:01:00",
         "CRIMES",
         "OUTROS CRIMES CONTRA A CRIANCA/ADOLESCENTE",
         "Consumado",
         "CAMAQUA",
         "RESIDENCIA",
         "Floresta",
         "1.0",
         "5.0",
         "Feminino",
         "Branca"
        ]
       ],
       "shape": {
        "columns": 11,
        "rows": 10
       }
      },
      "text/html": [
       "<div>\n",
       "<style scoped>\n",
       "    .dataframe tbody tr th:only-of-type {\n",
       "        vertical-align: middle;\n",
       "    }\n",
       "\n",
       "    .dataframe tbody tr th {\n",
       "        vertical-align: top;\n",
       "    }\n",
       "\n",
       "    .dataframe thead th {\n",
       "        text-align: right;\n",
       "    }\n",
       "</style>\n",
       "<table border=\"1\" class=\"dataframe\">\n",
       "  <thead>\n",
       "    <tr style=\"text-align: right;\">\n",
       "      <th></th>\n",
       "      <th>Hora</th>\n",
       "      <th>Gênero</th>\n",
       "      <th>Espécie</th>\n",
       "      <th>Consumação</th>\n",
       "      <th>Município</th>\n",
       "      <th>Local</th>\n",
       "      <th>Bairro</th>\n",
       "      <th>Vítimas</th>\n",
       "      <th>Idade</th>\n",
       "      <th>Sexo</th>\n",
       "      <th>Cor</th>\n",
       "    </tr>\n",
       "    <tr>\n",
       "      <th>Data</th>\n",
       "      <th></th>\n",
       "      <th></th>\n",
       "      <th></th>\n",
       "      <th></th>\n",
       "      <th></th>\n",
       "      <th></th>\n",
       "      <th></th>\n",
       "      <th></th>\n",
       "      <th></th>\n",
       "      <th></th>\n",
       "      <th></th>\n",
       "    </tr>\n",
       "  </thead>\n",
       "  <tbody>\n",
       "    <tr>\n",
       "      <th>01/01/2024</th>\n",
       "      <td>00:01:00</td>\n",
       "      <td>CRIMES</td>\n",
       "      <td>FURTO ABIGEATO</td>\n",
       "      <td>Consumado</td>\n",
       "      <td>ROSARIO DO SUL</td>\n",
       "      <td>OUTROS</td>\n",
       "      <td>Vila Nova</td>\n",
       "      <td>0.0</td>\n",
       "      <td>NaN</td>\n",
       "      <td>NaN</td>\n",
       "      <td>NaN</td>\n",
       "    </tr>\n",
       "    <tr>\n",
       "      <th>01/01/2024</th>\n",
       "      <td>00:01:00</td>\n",
       "      <td>CRIMES</td>\n",
       "      <td>ESTELIONATO</td>\n",
       "      <td>Consumado</td>\n",
       "      <td>BAGE</td>\n",
       "      <td>OUTROS</td>\n",
       "      <td>Centro</td>\n",
       "      <td>1.0</td>\n",
       "      <td>22.0</td>\n",
       "      <td>Masculino</td>\n",
       "      <td>Branca</td>\n",
       "    </tr>\n",
       "    <tr>\n",
       "      <th>01/01/2024</th>\n",
       "      <td>00:01:00</td>\n",
       "      <td>CRIMES</td>\n",
       "      <td>VIOLENCIA PSICOLOGICA CONTRA MULHER ART 147B</td>\n",
       "      <td>Consumado</td>\n",
       "      <td>PORTO ALEGRE</td>\n",
       "      <td>RESIDENCIA</td>\n",
       "      <td>São José</td>\n",
       "      <td>1.0</td>\n",
       "      <td>21.0</td>\n",
       "      <td>Feminino</td>\n",
       "      <td>Branca</td>\n",
       "    </tr>\n",
       "    <tr>\n",
       "      <th>01/01/2024</th>\n",
       "      <td>00:01:00</td>\n",
       "      <td>CRIMES</td>\n",
       "      <td>ESTUPRO DE VULNERAVEL</td>\n",
       "      <td>Consumado</td>\n",
       "      <td>SANTA CRUZ DO SUL</td>\n",
       "      <td>RESIDENCIA</td>\n",
       "      <td>Cristal</td>\n",
       "      <td>1.0</td>\n",
       "      <td>8.0</td>\n",
       "      <td>Feminino</td>\n",
       "      <td>Parda</td>\n",
       "    </tr>\n",
       "    <tr>\n",
       "      <th>01/01/2024</th>\n",
       "      <td>00:01:00</td>\n",
       "      <td>CRIMES</td>\n",
       "      <td>OUTROS CRIMES CONTRA A CRIANCA/ADOLESCENTE</td>\n",
       "      <td>Consumado</td>\n",
       "      <td>ARROIO DO SAL</td>\n",
       "      <td>RESIDENCIA</td>\n",
       "      <td>NaN</td>\n",
       "      <td>1.0</td>\n",
       "      <td>2.0</td>\n",
       "      <td>Masculino</td>\n",
       "      <td>Branca</td>\n",
       "    </tr>\n",
       "    <tr>\n",
       "      <th>01/01/2024</th>\n",
       "      <td>00:01:00</td>\n",
       "      <td>CRIMES</td>\n",
       "      <td>FURTO DE VEICULO</td>\n",
       "      <td>Consumado</td>\n",
       "      <td>ESPUMOSO</td>\n",
       "      <td>RESIDENCIA</td>\n",
       "      <td>Martini</td>\n",
       "      <td>1.0</td>\n",
       "      <td>45.0</td>\n",
       "      <td>Masculino</td>\n",
       "      <td>Branca</td>\n",
       "    </tr>\n",
       "    <tr>\n",
       "      <th>01/01/2024</th>\n",
       "      <td>00:01:00</td>\n",
       "      <td>CRIMES</td>\n",
       "      <td>FURTO QUALIFICADO</td>\n",
       "      <td>Consumado</td>\n",
       "      <td>RIO GRANDE</td>\n",
       "      <td>OUTROS</td>\n",
       "      <td>Santa Rita de Cássia</td>\n",
       "      <td>1.0</td>\n",
       "      <td>41.0</td>\n",
       "      <td>Masculino</td>\n",
       "      <td>Sem informação</td>\n",
       "    </tr>\n",
       "    <tr>\n",
       "      <th>01/01/2024</th>\n",
       "      <td>00:01:00</td>\n",
       "      <td>CRIMES</td>\n",
       "      <td>FURTO/ARROMBAMENTO DE RESIDENCIA</td>\n",
       "      <td>Consumado</td>\n",
       "      <td>SAO LEOPOLDO</td>\n",
       "      <td>OUTROS</td>\n",
       "      <td>Fião</td>\n",
       "      <td>1.0</td>\n",
       "      <td>75.0</td>\n",
       "      <td>Masculino</td>\n",
       "      <td>Sem informação</td>\n",
       "    </tr>\n",
       "    <tr>\n",
       "      <th>01/01/2024</th>\n",
       "      <td>00:01:00</td>\n",
       "      <td>CRIMES</td>\n",
       "      <td>ESTUPRO DE VULNERAVEL</td>\n",
       "      <td>Consumado</td>\n",
       "      <td>IBIRUBA</td>\n",
       "      <td>RESIDENCIA</td>\n",
       "      <td>NaN</td>\n",
       "      <td>1.0</td>\n",
       "      <td>16.0</td>\n",
       "      <td>Feminino</td>\n",
       "      <td>Parda</td>\n",
       "    </tr>\n",
       "    <tr>\n",
       "      <th>01/01/2024</th>\n",
       "      <td>00:01:00</td>\n",
       "      <td>CRIMES</td>\n",
       "      <td>OUTROS CRIMES CONTRA A CRIANCA/ADOLESCENTE</td>\n",
       "      <td>Consumado</td>\n",
       "      <td>CAMAQUA</td>\n",
       "      <td>RESIDENCIA</td>\n",
       "      <td>Floresta</td>\n",
       "      <td>1.0</td>\n",
       "      <td>5.0</td>\n",
       "      <td>Feminino</td>\n",
       "      <td>Branca</td>\n",
       "    </tr>\n",
       "  </tbody>\n",
       "</table>\n",
       "</div>"
      ],
      "text/plain": [
       "                Hora  Gênero                                       Espécie  \\\n",
       " Data                                                                        \n",
       "01/01/2024  00:01:00  CRIMES                                FURTO ABIGEATO   \n",
       "01/01/2024  00:01:00  CRIMES                                   ESTELIONATO   \n",
       "01/01/2024  00:01:00  CRIMES  VIOLENCIA PSICOLOGICA CONTRA MULHER ART 147B   \n",
       "01/01/2024  00:01:00  CRIMES                         ESTUPRO DE VULNERAVEL   \n",
       "01/01/2024  00:01:00  CRIMES    OUTROS CRIMES CONTRA A CRIANCA/ADOLESCENTE   \n",
       "01/01/2024  00:01:00  CRIMES                              FURTO DE VEICULO   \n",
       "01/01/2024  00:01:00  CRIMES                             FURTO QUALIFICADO   \n",
       "01/01/2024  00:01:00  CRIMES              FURTO/ARROMBAMENTO DE RESIDENCIA   \n",
       "01/01/2024  00:01:00  CRIMES                         ESTUPRO DE VULNERAVEL   \n",
       "01/01/2024  00:01:00  CRIMES    OUTROS CRIMES CONTRA A CRIANCA/ADOLESCENTE   \n",
       "\n",
       "           Consumação          Município       Local                Bairro  \\\n",
       " Data                                                                        \n",
       "01/01/2024  Consumado     ROSARIO DO SUL      OUTROS             Vila Nova   \n",
       "01/01/2024  Consumado               BAGE      OUTROS                Centro   \n",
       "01/01/2024  Consumado       PORTO ALEGRE  RESIDENCIA              São José   \n",
       "01/01/2024  Consumado  SANTA CRUZ DO SUL  RESIDENCIA               Cristal   \n",
       "01/01/2024  Consumado      ARROIO DO SAL  RESIDENCIA                   NaN   \n",
       "01/01/2024  Consumado           ESPUMOSO  RESIDENCIA               Martini   \n",
       "01/01/2024  Consumado         RIO GRANDE      OUTROS  Santa Rita de Cássia   \n",
       "01/01/2024  Consumado       SAO LEOPOLDO      OUTROS                  Fião   \n",
       "01/01/2024  Consumado            IBIRUBA  RESIDENCIA                   NaN   \n",
       "01/01/2024  Consumado            CAMAQUA  RESIDENCIA              Floresta   \n",
       "\n",
       "            Vítimas  Idade       Sexo             Cor  \n",
       " Data                                                  \n",
       "01/01/2024      0.0    NaN        NaN             NaN  \n",
       "01/01/2024      1.0   22.0  Masculino          Branca  \n",
       "01/01/2024      1.0   21.0   Feminino          Branca  \n",
       "01/01/2024      1.0    8.0   Feminino           Parda  \n",
       "01/01/2024      1.0    2.0  Masculino          Branca  \n",
       "01/01/2024      1.0   45.0  Masculino          Branca  \n",
       "01/01/2024      1.0   41.0  Masculino  Sem informação  \n",
       "01/01/2024      1.0   75.0  Masculino  Sem informação  \n",
       "01/01/2024      1.0   16.0   Feminino           Parda  \n",
       "01/01/2024      1.0    5.0   Feminino          Branca  "
      ]
     },
     "execution_count": 5,
     "metadata": {},
     "output_type": "execute_result"
    }
   ],
   "source": [
    "df.head(10)"
   ]
  },
  {
   "cell_type": "markdown",
   "id": "df8bfa9c",
   "metadata": {},
   "source": [
    "### **Crimes Mais Frequentes**\n"
   ]
  },
  {
   "cell_type": "code",
   "execution_count": 6,
   "id": "08e7fc7c",
   "metadata": {},
   "outputs": [
    {
     "data": {
      "application/vnd.microsoft.datawrangler.viewer.v0+json": {
       "columns": [
        {
         "name": "Espécie",
         "rawType": "object",
         "type": "string"
        },
        {
         "name": "count",
         "rawType": "int64",
         "type": "integer"
        }
       ],
       "ref": "841aaf0c-dd70-42d2-8ffe-b5932701947b",
       "rows": [
        [
         "AMEACA",
         "106563"
        ],
        [
         "ESTELIONATO",
         "79326"
        ],
        [
         "OUTROS CRIMES",
         "47817"
        ],
        [
         "LESAO CORPORAL",
         "44090"
        ],
        [
         "LESAO CORPORAL CULPOSA DIRECAO VEIC AUTOMOTOR",
         "31212"
        ],
        [
         "FURTO SIMPLES",
         "24563"
        ],
        [
         "VIAS DE FATO",
         "22062"
        ],
        [
         "OUTRAS FRAUDES",
         "21661"
        ],
        [
         "ENTORPECENTES - TRAFICO",
         "16646"
        ],
        [
         "INJURIA",
         "16645"
        ]
       ],
       "shape": {
        "columns": 1,
        "rows": 10
       }
      },
      "text/plain": [
       "Espécie\n",
       "AMEACA                                           106563\n",
       "ESTELIONATO                                       79326\n",
       "OUTROS CRIMES                                     47817\n",
       "LESAO CORPORAL                                    44090\n",
       "LESAO CORPORAL CULPOSA DIRECAO VEIC AUTOMOTOR     31212\n",
       "FURTO SIMPLES                                     24563\n",
       "VIAS DE FATO                                      22062\n",
       "OUTRAS FRAUDES                                    21661\n",
       "ENTORPECENTES - TRAFICO                           16646\n",
       "INJURIA                                           16645\n",
       "Name: count, dtype: int64"
      ]
     },
     "execution_count": 6,
     "metadata": {},
     "output_type": "execute_result"
    }
   ],
   "source": [
    "df[\"Espécie\"].value_counts().head(10)"
   ]
  },
  {
   "cell_type": "markdown",
   "id": "1fb44c16",
   "metadata": {},
   "source": [
    "### **Distribuição por Vítimas**\n"
   ]
  },
  {
   "cell_type": "code",
   "execution_count": 7,
   "id": "843801ed",
   "metadata": {},
   "outputs": [
    {
     "data": {
      "application/vnd.microsoft.datawrangler.viewer.v0+json": {
       "columns": [
        {
         "name": "Sexo",
         "rawType": "object",
         "type": "string"
        },
        {
         "name": "Vítimas",
         "rawType": "float64",
         "type": "float"
        }
       ],
       "ref": "7482ab69-c5e5-4968-bc6f-357a55181115",
       "rows": [
        [
         "Feminino",
         "351588.0"
        ],
        [
         "Masculino",
         "311407.0"
        ]
       ],
       "shape": {
        "columns": 1,
        "rows": 2
       }
      },
      "text/plain": [
       "Sexo\n",
       "Feminino     351588.0\n",
       "Masculino    311407.0\n",
       "Name: Vítimas, dtype: float64"
      ]
     },
     "execution_count": 7,
     "metadata": {},
     "output_type": "execute_result"
    }
   ],
   "source": [
    "df.groupby(\"Sexo\")[\"Vítimas\"].sum()"
   ]
  },
  {
   "cell_type": "code",
   "execution_count": 8,
   "id": "4ad7d981",
   "metadata": {},
   "outputs": [
    {
     "data": {
      "image/png": "[encoded data removed]",
      "text/plain": [
       "<Figure size 640x480 with 1 Axes>"
      ]
     },
     "metadata": {},
     "output_type": "display_data"
    }
   ],
   "source": [
    "df.groupby(\"Sexo\")[\"Vítimas\"].sum().plot(\n",
    "    kind=\"bar\",\n",
    "    color=[\"#FF9999\", \"#66B3FF\"],\n",
    "    title=\"Vítimas por Sexo\",\n",
    ")\n",
    "plt.show()"
   ]
  }
 ],
 "metadata": {
  "kernelspec": {
   "display_name": ".venv",
   "language": "python",
   "name": "python3"
  },
  "language_info": {
   "codemirror_mode": {
    "name": "ipython",
    "version": 3
   },
   "file_extension": ".py",
   "mimetype": "text/x-python",
   "name": "python",
   "nbconvert_exporter": "python",
   "pygments_lexer": "ipython3",
   "version": "3.12.10"
  }
 },
 "nbformat": 4,
 "nbformat_minor": 5
}
